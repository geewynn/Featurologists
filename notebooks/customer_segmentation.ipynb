{
 "cells": [
  {
   "cell_type": "code",
   "execution_count": 27,
   "metadata": {},
   "outputs": [
    {
     "output_type": "stream",
     "name": "stdout",
     "text": [
      "The autoreload extension is already loaded. To reload it, use:\n  %reload_ext autoreload\n"
     ]
    }
   ],
   "source": [
    "%load_ext autoreload\n",
    "%autoreload 2"
   ]
  },
  {
   "cell_type": "code",
   "execution_count": 28,
   "metadata": {},
   "outputs": [],
   "source": [
    "import logging\n",
    "\n",
    "for handler in logging.root.handlers:\n",
    "    logging.root.removeHandler(handler)\n",
    "logging.basicConfig(level=logging.INFO)"
   ]
  },
  {
   "cell_type": "code",
   "execution_count": 29,
   "metadata": {},
   "outputs": [],
   "source": [
    "from customer_segmentation_toolkit.data_zoo import download_data_csv\n",
    "\n",
    "from featurologists.features.customer_segmentation import transform\n",
    "from featurologists.models.customer_segmentation import (\n",
    "    calc_score_roc_auc,\n",
    "    train_test_split,\n",
    "    save_model,\n",
    "    train_lightgbm,\n",
    "    train_xgboost,\n",
    ")"
   ]
  },
  {
   "cell_type": "code",
   "execution_count": 32,
   "metadata": {},
   "outputs": [],
   "source": [
    "def prepare_nltk():\n",
    "    import nltk\n",
    "    nltk.download('punkt')\n",
    "    nltk.download('averaged_perceptron_tagger')\n",
    "\n",
    "def _load_data():\n",
    "    no_live_data = download_data_csv(\n",
    "        \"data/output/01_data_split_offline_online/no_live_data.csv\",\n",
    "        datetime_columns=[\"InvoiceDate\"],\n",
    "    )\n",
    "\n",
    "    df = transform(no_live_data)\n",
    "    # columns: [CustomerID,count,min,max,mean,sum,categ_0,categ_1,categ_2,categ_3,\n",
    "    #           categ_4,LastPurchase,FirstPurchase,cluster]\n",
    "    return df"
   ]
  },
  {
   "cell_type": "code",
   "execution_count": 33,
   "metadata": {
    "scrolled": true
   },
   "outputs": [
    {
     "output_type": "stream",
     "name": "stderr",
     "text": [
      "[nltk_data] Downloading package punkt to /home/ay/nltk_data...\n[nltk_data]   Package punkt is already up-to-date!\n[nltk_data] Downloading package averaged_perceptron_tagger to\n[nltk_data]     /home/ay/nltk_data...\n[nltk_data]   Package averaged_perceptron_tagger is already up-to-\n[nltk_data]       date!\nINFO:root:Downloading dataset 'https://raw.githubusercontent.com/artemlops/customer-segmentation-toolkit/master/data/output/01_data_split_offline_online/no_live_data.csv'\n"
     ]
    },
    {
     "output_type": "execute_result",
     "data": {
      "text/plain": [
       "   CustomerID  count     min     max        mean      sum    categ_0  \\\n",
       "0     12347.0      5  382.52  711.79  558.172000  2790.86  10.442659   \n",
       "1     12348.0      4  227.44  892.80  449.310000  1797.24  38.016069   \n",
       "2     12350.0      1  334.40  334.40  334.400000   334.40  11.692584   \n",
       "3     12352.0      6  144.35  840.30  345.663333  2073.98   0.491808   \n",
       "4     12353.0      1   89.00   89.00   89.000000    89.00   0.000000   \n",
       "\n",
       "     categ_1    categ_2    categ_3    categ_4  LastPurchase  FirstPurchase  \\\n",
       "0  29.836681   8.676179  36.519926  14.524555            59            297   \n",
       "1  41.953217   0.000000  20.030714   0.000000             5            288   \n",
       "2  48.444976   0.000000  11.961722  27.900718           240            240   \n",
       "3  12.892120  13.584991  69.660749   3.370331             2            226   \n",
       "4  13.033708  67.078652   0.000000  19.887640           134            134   \n",
       "\n",
       "   cluster  \n",
       "0        2  \n",
       "1        9  \n",
       "2        1  \n",
       "3        4  \n",
       "4        0  "
      ],
      "text/html": "<div>\n<style scoped>\n    .dataframe tbody tr th:only-of-type {\n        vertical-align: middle;\n    }\n\n    .dataframe tbody tr th {\n        vertical-align: top;\n    }\n\n    .dataframe thead th {\n        text-align: right;\n    }\n</style>\n<table border=\"1\" class=\"dataframe\">\n  <thead>\n    <tr style=\"text-align: right;\">\n      <th></th>\n      <th>CustomerID</th>\n      <th>count</th>\n      <th>min</th>\n      <th>max</th>\n      <th>mean</th>\n      <th>sum</th>\n      <th>categ_0</th>\n      <th>categ_1</th>\n      <th>categ_2</th>\n      <th>categ_3</th>\n      <th>categ_4</th>\n      <th>LastPurchase</th>\n      <th>FirstPurchase</th>\n      <th>cluster</th>\n    </tr>\n  </thead>\n  <tbody>\n    <tr>\n      <th>0</th>\n      <td>12347.0</td>\n      <td>5</td>\n      <td>382.52</td>\n      <td>711.79</td>\n      <td>558.172000</td>\n      <td>2790.86</td>\n      <td>10.442659</td>\n      <td>29.836681</td>\n      <td>8.676179</td>\n      <td>36.519926</td>\n      <td>14.524555</td>\n      <td>59</td>\n      <td>297</td>\n      <td>2</td>\n    </tr>\n    <tr>\n      <th>1</th>\n      <td>12348.0</td>\n      <td>4</td>\n      <td>227.44</td>\n      <td>892.80</td>\n      <td>449.310000</td>\n      <td>1797.24</td>\n      <td>38.016069</td>\n      <td>41.953217</td>\n      <td>0.000000</td>\n      <td>20.030714</td>\n      <td>0.000000</td>\n      <td>5</td>\n      <td>288</td>\n      <td>9</td>\n    </tr>\n    <tr>\n      <th>2</th>\n      <td>12350.0</td>\n      <td>1</td>\n      <td>334.40</td>\n      <td>334.40</td>\n      <td>334.400000</td>\n      <td>334.40</td>\n      <td>11.692584</td>\n      <td>48.444976</td>\n      <td>0.000000</td>\n      <td>11.961722</td>\n      <td>27.900718</td>\n      <td>240</td>\n      <td>240</td>\n      <td>1</td>\n    </tr>\n    <tr>\n      <th>3</th>\n      <td>12352.0</td>\n      <td>6</td>\n      <td>144.35</td>\n      <td>840.30</td>\n      <td>345.663333</td>\n      <td>2073.98</td>\n      <td>0.491808</td>\n      <td>12.892120</td>\n      <td>13.584991</td>\n      <td>69.660749</td>\n      <td>3.370331</td>\n      <td>2</td>\n      <td>226</td>\n      <td>4</td>\n    </tr>\n    <tr>\n      <th>4</th>\n      <td>12353.0</td>\n      <td>1</td>\n      <td>89.00</td>\n      <td>89.00</td>\n      <td>89.000000</td>\n      <td>89.00</td>\n      <td>0.000000</td>\n      <td>13.033708</td>\n      <td>67.078652</td>\n      <td>0.000000</td>\n      <td>19.887640</td>\n      <td>134</td>\n      <td>134</td>\n      <td>0</td>\n    </tr>\n  </tbody>\n</table>\n</div>"
     },
     "metadata": {},
     "execution_count": 33
    }
   ],
   "source": [
    "prepare_nltk()\n",
    "\n",
    "df = _load_data()\n",
    "df.head()"
   ]
  },
  {
   "cell_type": "code",
   "execution_count": 34,
   "metadata": {},
   "outputs": [],
   "source": [
    "from pathlib import Path\n",
    "DATA = Path(\"../data/customer_segmentation\")\n",
    "DATA.mkdir(exist_ok=True)\n",
    "\n",
    "df.to_csv(DATA / \"no_live_data__transformed.csv\")"
   ]
  },
  {
   "cell_type": "code",
   "execution_count": 35,
   "metadata": {},
   "outputs": [],
   "source": [
    "X_train, X_test, Y_train, Y_test = train_test_split(df)"
   ]
  },
  {
   "cell_type": "code",
   "execution_count": 36,
   "metadata": {},
   "outputs": [
    {
     "output_type": "execute_result",
     "data": {
      "text/plain": [
       "XGBClassifier(base_score=0.5, booster='gbtree', colsample_bylevel=1,\n",
       "              colsample_bynode=1, colsample_bytree=1, eval_metric='aucpr',\n",
       "              gamma=0, gpu_id=-1, importance_type='gain',\n",
       "              interaction_constraints='', learning_rate=0.16, max_delta_step=0,\n",
       "              max_depth=50, min_child_weight=1, missing=nan,\n",
       "              monotone_constraints='()', n_estimators=100, n_jobs=12,\n",
       "              num_parallel_tree=1, objective='multi:softprob', random_state=0,\n",
       "              reg_alpha=0, reg_lambda=1, scale_pos_weight=None, subsample=1,\n",
       "              tree_method='exact', use_label_encoder=False,\n",
       "              validate_parameters=1, verbosity=None)"
      ]
     },
     "metadata": {},
     "execution_count": 36
    }
   ],
   "source": [
    "xgboost_model = train_xgboost(X_train, Y_train)\n",
    "xgboost_model"
   ]
  },
  {
   "cell_type": "code",
   "execution_count": 37,
   "metadata": {},
   "outputs": [
    {
     "output_type": "stream",
     "name": "stdout",
     "text": [
      "XGBoost score_roc_auc: 0.929973\n"
     ]
    }
   ],
   "source": [
    "xgboost_score = calc_score_roc_auc(xgboost_model, X_test, Y_test)\n",
    "print(f\"XGBoost score_roc_auc: {xgboost_score:.6f}\")"
   ]
  },
  {
   "cell_type": "code",
   "execution_count": 38,
   "metadata": {},
   "outputs": [
    {
     "output_type": "execute_result",
     "data": {
      "text/plain": [
       "<lightgbm.basic.Booster at 0x7f56b2eec690>"
      ]
     },
     "metadata": {},
     "execution_count": 38
    }
   ],
   "source": [
    "lightgbm_model = train_lightgbm(X_train, Y_train)\n",
    "lightgbm_model"
   ]
  },
  {
   "cell_type": "code",
   "execution_count": 39,
   "metadata": {},
   "outputs": [
    {
     "output_type": "stream",
     "name": "stdout",
     "text": [
      "LightGBM score_roc_auc: 0.933648\n"
     ]
    }
   ],
   "source": [
    "lightgbm_score = calc_score_roc_auc(lightgbm_model, X_test, Y_test)\n",
    "print(f\"LightGBM score_roc_auc: {lightgbm_score:.6f}\")"
   ]
  },
  {
   "cell_type": "code",
   "execution_count": 40,
   "metadata": {},
   "outputs": [
    {
     "output_type": "stream",
     "name": "stdout",
     "text": [
      "/plain/github/opensource/Featurologists/notebooks\n"
     ]
    },
    {
     "output_type": "execute_result",
     "data": {
      "text/plain": [
       "['lightgbm', 'xgboost']"
      ]
     },
     "metadata": {},
     "execution_count": 40
    }
   ],
   "source": [
    "from pathlib import Path\n",
    "\n",
    "! pwd\n",
    "PROJECT_ROOT = Path(\"..\").resolve()\n",
    "PROJECT_ROOT_LS = [p.name for p in PROJECT_ROOT.iterdir()]\n",
    "assert \"featurologists\" in PROJECT_ROOT_LS, f\"Not a project root? {PROJECT_ROOT}\"\n",
    "\n",
    "MODELS_DIR = PROJECT_ROOT / \"models\" / \"customer_segmentation\"\n",
    "! rm -r {MODELS_DIR}\n",
    "\n",
    "save_model(\n",
    "    xgboost_model, MODELS_DIR / \"xgboost\", metadata={\"score_roc_auc\": xgboost_score}\n",
    ")\n",
    "save_model(\n",
    "    lightgbm_model, MODELS_DIR / \"lightgbm\", metadata={\"score_roc_auc\": lightgbm_score}\n",
    ")\n",
    "\n",
    "[p.name for p in MODELS_DIR.iterdir()]"
   ]
  },
  {
   "cell_type": "code",
   "execution_count": null,
   "metadata": {},
   "outputs": [],
   "source": []
  }
 ],
 "metadata": {
  "kernelspec": {
   "display_name": "featurologists",
   "language": "python",
   "name": "featurologists"
  },
  "language_info": {
   "codemirror_mode": {
    "name": "ipython",
    "version": 3
   },
   "file_extension": ".py",
   "mimetype": "text/x-python",
   "name": "python",
   "nbconvert_exporter": "python",
   "pygments_lexer": "ipython3",
   "version": "3.7.6-final"
  }
 },
 "nbformat": 4,
 "nbformat_minor": 4
}
