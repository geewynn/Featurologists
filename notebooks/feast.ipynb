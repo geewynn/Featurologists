{
 "cells": [
  {
   "cell_type": "code",
   "execution_count": 1,
   "id": "welsh-copper",
   "metadata": {},
   "outputs": [],
   "source": [
    "%load_ext autoreload\n",
    "%autoreload 2"
   ]
  },
  {
   "cell_type": "code",
   "execution_count": 2,
   "id": "entertaining-programming",
   "metadata": {},
   "outputs": [],
   "source": [
    "import logging\n",
    "\n",
    "for handler in logging.root.handlers:\n",
    "    logging.root.removeHandler(handler)\n",
    "logging.basicConfig(level=logging.INFO)"
   ]
  },
  {
   "cell_type": "code",
   "execution_count": 3,
   "id": "bored-munich",
   "metadata": {},
   "outputs": [],
   "source": [
    "# Set project root\n",
    "from pathlib import Path\n",
    "\n",
    "PROJECT_ROOT = Path(\"..\").resolve()\n",
    "PROJECT_ROOT_LS = [p.name for p in PROJECT_ROOT.iterdir()]\n",
    "assert \"featurologists\" in PROJECT_ROOT_LS, f\"Not a project root? {PROJECT_ROOT}, pwd: {Path().resolve()}\""
   ]
  },
  {
   "cell_type": "code",
   "execution_count": 4,
   "id": "aggregate-external",
   "metadata": {},
   "outputs": [
    {
     "name": "stdout",
     "output_type": "stream",
     "text": [
      "K8S_FEAST_NS=feast-dev\n"
     ]
    }
   ],
   "source": [
    "import os\n",
    "\n",
    "K8S_FEAST_NS = os.environ.get('K8S_FEAST_NS', 'feast-dev')\n",
    "print(f'K8S_FEAST_NS={K8S_FEAST_NS}')"
   ]
  },
  {
   "cell_type": "code",
   "execution_count": 5,
   "id": "simplified-month",
   "metadata": {},
   "outputs": [],
   "source": [
    "from typing import Tuple\n",
    "import subprocess\n",
    "import socketserver\n",
    "\n",
    "def get_free_port():\n",
    "    with socketserver.TCPServer((\"localhost\", 0), None) as s:\n",
    "        free_port = s.server_address[1]\n",
    "        return free_port\n",
    "\n",
    "def kubectl_port_forward(ns: str, what: str, port_remote: int) -> Tuple[subprocess.Popen, int]:\n",
    "    port_local = get_free_port()\n",
    "    p = subprocess.Popen(\n",
    "        ['kubectl', '-n', 'feast-dev', 'port-forward', what, f'{port_local}:{port_remote}'],\n",
    "        stdout=subprocess.PIPE,\n",
    "        stderr=subprocess.PIPE,\n",
    "    )\n",
    "    print(f'pid: {p.pid}')\n",
    "    try:\n",
    "        n_sec = 2\n",
    "        stdout, stderr = p.communicate(timeout=n_sec)\n",
    "        raise ValueError(\n",
    "            f'Port-forward process for {what} has terminated within {n_sec} sec: '\n",
    "            f'stdout={stdout}, stderr={stderr}'\n",
    "        )\n",
    "    except subprocess.TimeoutExpired:\n",
    "        print(f\"Port-forward process for '{what}' seems to be working: check 'localhost:{port_local}'\")\n",
    "    \n",
    "    return p, port_local"
   ]
  },
  {
   "cell_type": "code",
   "execution_count": 6,
   "id": "surrounded-jurisdiction",
   "metadata": {},
   "outputs": [],
   "source": [
    "port_forward_processes = []"
   ]
  },
  {
   "cell_type": "code",
   "execution_count": 7,
   "id": "earlier-conversion",
   "metadata": {},
   "outputs": [
    {
     "name": "stdout",
     "output_type": "stream",
     "text": [
      "pid: 3668491\n",
      "Port-forward process for 'service/feast-release-feast-core' seems to be working: check 'localhost:53707'\n"
     ]
    }
   ],
   "source": [
    "feast_core_process, feast_core_port = kubectl_port_forward(K8S_FEAST_NS, 'service/feast-release-feast-core', 6565)\n",
    "\n",
    "port_forward_processes.append(feast_core_process)"
   ]
  },
  {
   "cell_type": "code",
   "execution_count": 8,
   "id": "apparent-appointment",
   "metadata": {},
   "outputs": [],
   "source": [
    "import os\n",
    "\n",
    "from feast import Client, Feature, Entity, ValueType, FeatureTable\n",
    "from feast.data_source import FileSource, KafkaSource\n",
    "from feast.data_format import ParquetFormat, AvroFormat"
   ]
  },
  {
   "cell_type": "code",
   "execution_count": 9,
   "id": "laden-destruction",
   "metadata": {},
   "outputs": [
    {
     "name": "stderr",
     "output_type": "stream",
     "text": [
      "/plain/github/opensource/Featurologists/venv/lib/python3.7/site-packages/ipykernel/ipkernel.py:283: DeprecationWarning: `should_run_async` will not call `transform_cell` automatically in the future. Please pass the result to `transformed_cell` argument and any exception that happen during thetransform in `preprocessing_exc_tuple` in IPython 7.17 and above.\n",
      "  and should_run_async(code)\n"
     ]
    },
    {
     "data": {
      "text/plain": [
       "['default']"
      ]
     },
     "execution_count": 9,
     "metadata": {},
     "output_type": "execute_result"
    }
   ],
   "source": [
    "client = Client(core_url=f\"localhost:{feast_core_port}\") #, serving_url='localhost:8092')\n",
    "client.list_projects()"
   ]
  },
  {
   "cell_type": "code",
   "execution_count": 11,
   "id": "agreed-piano",
   "metadata": {},
   "outputs": [],
   "source": [
    "DATA_FEAST_PATH = PROJECT_ROOT / 'data-feast'\n",
    "\n",
    "data_location = f'file://{DATA_FEAST_PATH}'"
   ]
  },
  {
   "cell_type": "code",
   "execution_count": null,
   "id": "ranging-harvey",
   "metadata": {},
   "outputs": [],
   "source": [
    "driver_id = Entity(name=\"driver_id\", description=\"Driver identifier\", value_type=ValueType.INT64)\n",
    "\n",
    "driver_statistics_source_uri = os.path.join(demo_data_location, \"driver_statistics\")\n",
    "\n",
    "driver_statistics = FeatureTable(\n",
    "    name = \"driver_statistics\",\n",
    "    entities = [\"driver_id\"],\n",
    "    features = [\n",
    "        acc_rate,\n",
    "        conv_rate,\n",
    "        avg_daily_trips\n",
    "    ],\n",
    "    batch_source=FileSource(\n",
    "        event_timestamp_column=\"datetime\",\n",
    "        created_timestamp_column=\"created\",\n",
    "        file_format=ParquetFormat(),\n",
    "        file_url=driver_statistics_source_uri,\n",
    "        date_partition_column=\"date\"\n",
    "    )\n",
    ")"
   ]
  },
  {
   "cell_type": "code",
   "execution_count": 68,
   "id": "strange-completion",
   "metadata": {},
   "outputs": [
    {
     "name": "stderr",
     "output_type": "stream",
     "text": [
      "/plain/github/opensource/Featurologists/venv/lib/python3.7/site-packages/ipykernel/ipkernel.py:283: DeprecationWarning: `should_run_async` will not call `transform_cell` automatically in the future. Please pass the result to `transformed_cell` argument and any exception that happen during thetransform in `preprocessing_exc_tuple` in IPython 7.17 and above.\n",
      "  and should_run_async(code)\n"
     ]
    }
   ],
   "source": [
    "for p in port_forward_processes:\n",
    "    p.kill()"
   ]
  },
  {
   "cell_type": "code",
   "execution_count": null,
   "id": "animal-collective",
   "metadata": {},
   "outputs": [],
   "source": []
  }
 ],
 "metadata": {
  "kernelspec": {
   "display_name": "featurologists",
   "language": "python",
   "name": "featurologists"
  },
  "language_info": {
   "codemirror_mode": {
    "name": "ipython",
    "version": 3
   },
   "file_extension": ".py",
   "mimetype": "text/x-python",
   "name": "python",
   "nbconvert_exporter": "python",
   "pygments_lexer": "ipython3",
   "version": "3.7.6"
  }
 },
 "nbformat": 4,
 "nbformat_minor": 5
}
