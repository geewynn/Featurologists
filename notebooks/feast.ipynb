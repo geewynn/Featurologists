{
 "cells": [
  {
   "cell_type": "code",
   "execution_count": 1,
   "id": "precious-balance",
   "metadata": {},
   "outputs": [],
   "source": [
    "%load_ext autoreload\n",
    "%autoreload 2"
   ]
  },
  {
   "cell_type": "code",
   "execution_count": 2,
   "id": "infinite-stage",
   "metadata": {},
   "outputs": [],
   "source": [
    "import logging\n",
    "\n",
    "for handler in logging.root.handlers:\n",
    "    logging.root.removeHandler(handler)\n",
    "logging.basicConfig(level=logging.INFO)"
   ]
  },
  {
   "cell_type": "code",
   "execution_count": 3,
   "id": "second-trustee",
   "metadata": {},
   "outputs": [],
   "source": [
    "# Set project root\n",
    "from pathlib import Path\n",
    "\n",
    "PROJECT_ROOT = Path(\"..\").resolve()\n",
    "PROJECT_ROOT_LS = [p.name for p in PROJECT_ROOT.iterdir()]\n",
    "assert \"featurologists\" in PROJECT_ROOT_LS, f\"Not a project root? {PROJECT_ROOT}, pwd: {Path().resolve()}\""
   ]
  },
  {
   "cell_type": "code",
   "execution_count": 4,
   "id": "sought-greeting",
   "metadata": {},
   "outputs": [
    {
     "name": "stdout",
     "output_type": "stream",
     "text": [
      "K8S_FEAST_NS=feast-dev\n"
     ]
    }
   ],
   "source": [
    "import os\n",
    "\n",
    "K8S_FEAST_NS = os.environ.get('K8S_FEAST_NS', 'feast-dev')\n",
    "print(f'K8S_FEAST_NS={K8S_FEAST_NS}')"
   ]
  },
  {
   "cell_type": "code",
   "execution_count": 8,
   "id": "latest-cheat",
   "metadata": {},
   "outputs": [],
   "source": [
    "from featurologists.utils import kubectl_port_forward"
   ]
  },
  {
   "cell_type": "code",
   "execution_count": 9,
   "id": "another-builder",
   "metadata": {},
   "outputs": [],
   "source": [
    "port_forward_processes = []"
   ]
  },
  {
   "cell_type": "code",
   "execution_count": 10,
   "id": "hungry-navigator",
   "metadata": {},
   "outputs": [
    {
     "name": "stdout",
     "output_type": "stream",
     "text": [
      "pid: 341319\n",
      "Port-forward process for 'service/feast-release-feast-core' seems to be working: check 'localhost:34971'\n"
     ]
    }
   ],
   "source": [
    "feast_core_process, feast_core_port = kubectl_port_forward(K8S_FEAST_NS, 'service/feast-release-feast-core', 6565)\n",
    "\n",
    "port_forward_processes.append(feast_core_process)"
   ]
  },
  {
   "cell_type": "code",
   "execution_count": 11,
   "id": "appropriate-forge",
   "metadata": {},
   "outputs": [],
   "source": [
    "import os\n",
    "\n",
    "from feast import Client, Feature, Entity, ValueType, FeatureTable\n",
    "from feast.data_source import FileSource, KafkaSource\n",
    "from feast.data_format import ParquetFormat, AvroFormat"
   ]
  },
  {
   "cell_type": "code",
   "execution_count": 12,
   "id": "incredible-investigator",
   "metadata": {},
   "outputs": [
    {
     "name": "stderr",
     "output_type": "stream",
     "text": [
      "/plain/github/opensource/Featurologists/venv/lib/python3.7/site-packages/ipykernel/ipkernel.py:283: DeprecationWarning: `should_run_async` will not call `transform_cell` automatically in the future. Please pass the result to `transformed_cell` argument and any exception that happen during thetransform in `preprocessing_exc_tuple` in IPython 7.17 and above.\n",
      "  and should_run_async(code)\n"
     ]
    },
    {
     "data": {
      "text/plain": [
       "['default']"
      ]
     },
     "execution_count": 12,
     "metadata": {},
     "output_type": "execute_result"
    }
   ],
   "source": [
    "client = Client(core_url=f\"localhost:{feast_core_port}\") #, serving_url='localhost:8092')\n",
    "client.list_projects()"
   ]
  },
  {
   "cell_type": "code",
   "execution_count": 26,
   "id": "pacific-creek",
   "metadata": {},
   "outputs": [],
   "source": [
    "DATA_DIR = PROJECT_ROOT/'data/output'\n",
    "DATA_FEAST_PATH = PROJECT_ROOT / 'data-feast'"
   ]
  },
  {
   "cell_type": "code",
   "execution_count": 16,
   "id": "advance-closure",
   "metadata": {},
   "outputs": [
    {
     "name": "stdout",
     "output_type": "stream",
     "text": [
      "Quantity,UnitPrice,Country,InvoiceDate_year,InvoiceDate_month,InvoiceDate_day,InvoiceDate_hour,InvoiceDate_minute,InvoiceDate_second,IsCancelled\r\n",
      "6,2.55,34,2010,12,1,8,26,0,0\r\n"
     ]
    }
   ],
   "source": [
    "! head -n2 {PROJECT_ROOT}/data/output/cancellation_prediction/offline_preprocessed.csv\n",
    "# Quantity,UnitPrice,Country,InvoiceDate_year,InvoiceDate_month,InvoiceDate_day,InvoiceDate_hour,InvoiceDate_minute,InvoiceDate_second,IsCancelled"
   ]
  },
  {
   "cell_type": "code",
   "execution_count": 49,
   "id": "single-motel",
   "metadata": {},
   "outputs": [],
   "source": [
    "source_uri = f'file://{DATA_FEAST_PATH}/offline_preprocessed_csv'"
   ]
  },
  {
   "cell_type": "code",
   "execution_count": 51,
   "id": "hollow-experiment",
   "metadata": {},
   "outputs": [
    {
     "name": "stderr",
     "output_type": "stream",
     "text": [
      "/plain/github/opensource/Featurologists/venv/lib/python3.7/site-packages/feast/data_source.py:593: UserWarning: Argument \"file_url\" is being deprecated. Please use the \"path\" argument.\n",
      "  'Argument \"file_url\" is being deprecated. Please use the \"path\" argument.'\n"
     ]
    }
   ],
   "source": [
    "invoice_id = Entity(name=\"invoice_id\", description=\"Invoice ID\", value_type=ValueType.INT64)\n",
    "\n",
    "customer_clusters = FeatureTable(\n",
    "    name = \"invoices\",\n",
    "    entities = [\"invoice_id\"],\n",
    "    features = [\n",
    "        Feature(\"Quantity\", ValueType.INT64),\n",
    "        Feature(\"UnitPrice\", ValueType.FLOAT),\n",
    "        Feature(\"Country\", ValueType.INT64),\n",
    "        Feature(\"InvoiceDate_year\", ValueType.INT64),\n",
    "        Feature(\"InvoiceDate_month\", ValueType.INT64),\n",
    "        Feature(\"InvoiceDate_day\", ValueType.INT64),\n",
    "        Feature(\"InvoiceDate_hour\", ValueType.INT64),\n",
    "        Feature(\"InvoiceDate_minute\", ValueType.INT64),\n",
    "        Feature(\"InvoiceDate_second\", ValueType.INT64),\n",
    "        Feature(\"IsCancelled\", ValueType.INT64),        \n",
    "    ],\n",
    "    batch_source=FileSource(\n",
    "        event_timestamp_column=\"InvoiceDate\",\n",
    "        created_timestamp_column=\"created\",\n",
    "        file_format=ParquetFormat(),\n",
    "        #path= str(DATA_FEAST_PATH / 'offline_preprocessed_csv'),\n",
    "        file_url=source_uri,\n",
    "        date_partition_column=\"date\"\n",
    "    )\n",
    ")"
   ]
  },
  {
   "cell_type": "code",
   "execution_count": 52,
   "id": "virtual-heading",
   "metadata": {},
   "outputs": [],
   "source": [
    "client.apply(invoice_id)\n",
    "client.apply(customer_clusters)"
   ]
  },
  {
   "cell_type": "code",
   "execution_count": 53,
   "id": "lyric-explanation",
   "metadata": {},
   "outputs": [
    {
     "name": "stdout",
     "output_type": "stream",
     "text": [
      "spec:\n",
      "  name: invoices\n",
      "  entities:\n",
      "  - invoice_id\n",
      "  features:\n",
      "  - name: Quantity\n",
      "    valueType: INT64\n",
      "  - name: InvoiceDate_day\n",
      "    valueType: INT64\n",
      "  - name: UnitPrice\n",
      "    valueType: FLOAT\n",
      "  - name: Country\n",
      "    valueType: INT64\n",
      "  - name: InvoiceDate_month\n",
      "    valueType: INT64\n",
      "  - name: InvoiceDate_year\n",
      "    valueType: INT64\n",
      "  - name: InvoiceDate_minute\n",
      "    valueType: INT64\n",
      "  - name: IsCancelled\n",
      "    valueType: INT64\n",
      "  - name: InvoiceDate_hour\n",
      "    valueType: INT64\n",
      "  - name: InvoiceDate_second\n",
      "    valueType: INT64\n",
      "  batchSource:\n",
      "    type: BATCH_FILE\n",
      "    eventTimestampColumn: InvoiceDate\n",
      "    datePartitionColumn: date\n",
      "    createdTimestampColumn: created\n",
      "    fileOptions:\n",
      "      fileFormat:\n",
      "        parquetFormat: {}\n",
      "      fileUrl: file:///plain/github/opensource/Featurologists/data-feast/offline_preprocessed_csv\n",
      "meta:\n",
      "  createdTimestamp: '2021-06-12T15:48:06Z'\n",
      "\n"
     ]
    }
   ],
   "source": [
    "print(client.get_feature_table(\"invoices\").to_yaml())\n"
   ]
  },
  {
   "cell_type": "code",
   "execution_count": 54,
   "id": "given-numbers",
   "metadata": {},
   "outputs": [
    {
     "data": {
      "text/html": [
       "<div>\n",
       "<style scoped>\n",
       "    .dataframe tbody tr th:only-of-type {\n",
       "        vertical-align: middle;\n",
       "    }\n",
       "\n",
       "    .dataframe tbody tr th {\n",
       "        vertical-align: top;\n",
       "    }\n",
       "\n",
       "    .dataframe thead th {\n",
       "        text-align: right;\n",
       "    }\n",
       "</style>\n",
       "<table border=\"1\" class=\"dataframe\">\n",
       "  <thead>\n",
       "    <tr style=\"text-align: right;\">\n",
       "      <th></th>\n",
       "      <th>InvoiceDate</th>\n",
       "      <th>Quantity</th>\n",
       "      <th>UnitPrice</th>\n",
       "      <th>Country</th>\n",
       "    </tr>\n",
       "  </thead>\n",
       "  <tbody>\n",
       "    <tr>\n",
       "      <th>0</th>\n",
       "      <td>2011-10-02 10:32:00</td>\n",
       "      <td>48</td>\n",
       "      <td>4.95</td>\n",
       "      <td>34</td>\n",
       "    </tr>\n",
       "    <tr>\n",
       "      <th>1</th>\n",
       "      <td>2011-10-02 10:32:00</td>\n",
       "      <td>20</td>\n",
       "      <td>1.25</td>\n",
       "      <td>34</td>\n",
       "    </tr>\n",
       "    <tr>\n",
       "      <th>2</th>\n",
       "      <td>2011-10-02 10:43:00</td>\n",
       "      <td>4</td>\n",
       "      <td>0.85</td>\n",
       "      <td>34</td>\n",
       "    </tr>\n",
       "    <tr>\n",
       "      <th>3</th>\n",
       "      <td>2011-10-02 10:43:00</td>\n",
       "      <td>15</td>\n",
       "      <td>7.08</td>\n",
       "      <td>34</td>\n",
       "    </tr>\n",
       "    <tr>\n",
       "      <th>4</th>\n",
       "      <td>2011-10-02 10:43:00</td>\n",
       "      <td>4</td>\n",
       "      <td>4.95</td>\n",
       "      <td>34</td>\n",
       "    </tr>\n",
       "    <tr>\n",
       "      <th>...</th>\n",
       "      <td>...</td>\n",
       "      <td>...</td>\n",
       "      <td>...</td>\n",
       "      <td>...</td>\n",
       "    </tr>\n",
       "    <tr>\n",
       "      <th>170973</th>\n",
       "      <td>2011-12-09 12:50:00</td>\n",
       "      <td>12</td>\n",
       "      <td>0.85</td>\n",
       "      <td>13</td>\n",
       "    </tr>\n",
       "    <tr>\n",
       "      <th>170974</th>\n",
       "      <td>2011-12-09 12:50:00</td>\n",
       "      <td>6</td>\n",
       "      <td>2.10</td>\n",
       "      <td>13</td>\n",
       "    </tr>\n",
       "    <tr>\n",
       "      <th>170975</th>\n",
       "      <td>2011-12-09 12:50:00</td>\n",
       "      <td>4</td>\n",
       "      <td>4.15</td>\n",
       "      <td>13</td>\n",
       "    </tr>\n",
       "    <tr>\n",
       "      <th>170976</th>\n",
       "      <td>2011-12-09 12:50:00</td>\n",
       "      <td>4</td>\n",
       "      <td>4.15</td>\n",
       "      <td>13</td>\n",
       "    </tr>\n",
       "    <tr>\n",
       "      <th>170977</th>\n",
       "      <td>2011-12-09 12:50:00</td>\n",
       "      <td>3</td>\n",
       "      <td>4.95</td>\n",
       "      <td>13</td>\n",
       "    </tr>\n",
       "  </tbody>\n",
       "</table>\n",
       "<p>170978 rows × 4 columns</p>\n",
       "</div>"
      ],
      "text/plain": [
       "               InvoiceDate  Quantity  UnitPrice  Country\n",
       "0      2011-10-02 10:32:00        48       4.95       34\n",
       "1      2011-10-02 10:32:00        20       1.25       34\n",
       "2      2011-10-02 10:43:00         4       0.85       34\n",
       "3      2011-10-02 10:43:00        15       7.08       34\n",
       "4      2011-10-02 10:43:00         4       4.95       34\n",
       "...                    ...       ...        ...      ...\n",
       "170973 2011-12-09 12:50:00        12       0.85       13\n",
       "170974 2011-12-09 12:50:00         6       2.10       13\n",
       "170975 2011-12-09 12:50:00         4       4.15       13\n",
       "170976 2011-12-09 12:50:00         4       4.15       13\n",
       "170977 2011-12-09 12:50:00         3       4.95       13\n",
       "\n",
       "[170978 rows x 4 columns]"
      ]
     },
     "execution_count": 54,
     "metadata": {},
     "output_type": "execute_result"
    }
   ],
   "source": [
    "import pandas as pd\n",
    "from featurologists.cancellation_prediction import (\n",
    "    preprocess_persistent,\n",
    "    preprocess_replace_invoice_date,\n",
    "    load_country_encoder,\n",
    ")\n",
    "\n",
    "online_df = pd.read_csv(DATA_DIR / 'online_raw.csv')\n",
    "country_encoder = load_country_encoder(DATA_DIR / 'cancellation_prediction' / 'country_encoder.npy')\n",
    "online_df = preprocess_persistent(online_df, country_encoder, add_target=False)\n",
    "#online_df = preprocess_replace_invoice_date(online_df)\n",
    "online_df"
   ]
  },
  {
   "cell_type": "code",
   "execution_count": 55,
   "id": "stylish-villa",
   "metadata": {},
   "outputs": [
    {
     "name": "stderr",
     "output_type": "stream",
     "text": [
      "/plain/github/opensource/Featurologists/venv/lib/python3.7/site-packages/ipykernel/ipkernel.py:283: DeprecationWarning: `should_run_async` will not call `transform_cell` automatically in the future. Please pass the result to `transformed_cell` argument and any exception that happen during thetransform in `preprocessing_exc_tuple` in IPython 7.17 and above.\n",
      "  and should_run_async(code)\n"
     ]
    }
   ],
   "source": [
    "online_df_part = online_df.iloc[:10]"
   ]
  },
  {
   "cell_type": "code",
   "execution_count": 56,
   "id": "musical-yellow",
   "metadata": {},
   "outputs": [
    {
     "name": "stdout",
     "output_type": "stream",
     "text": [
      "Removing temporary file(s)...\n",
      "Data has been successfully ingested into FeatureTable batch source.\n"
     ]
    }
   ],
   "source": [
    "client.ingest(customer_clusters, online_df_part)"
   ]
  },
  {
   "cell_type": "code",
   "execution_count": 59,
   "id": "collectible-blair",
   "metadata": {},
   "outputs": [
    {
     "name": "stdout",
     "output_type": "stream",
     "text": [
      "Help on Client in module feast.client object:\n",
      "\n",
      "class Client(builtins.object)\n",
      " |  Client(options: Union[Dict[str, str], NoneType] = None, **kwargs)\n",
      " |  \n",
      " |  Feast Client: Used for creating, managing, and retrieving features.\n",
      " |  \n",
      " |  Methods defined here:\n",
      " |  \n",
      " |  __init__(self, options: Union[Dict[str, str], NoneType] = None, **kwargs)\n",
      " |      The Feast Client should be initialized with at least one service url\n",
      " |      Please see constants.py for configuration options. Commonly used options\n",
      " |      or arguments include:\n",
      " |          core_url: Feast Core URL. Used to manage features\n",
      " |          serving_url: Feast Serving URL. Used to retrieve features\n",
      " |          project: Sets the active project. This field is optional.\n",
      " |          core_secure: Use client-side SSL/TLS for Core gRPC API\n",
      " |          serving_secure: Use client-side SSL/TLS for Serving gRPC API\n",
      " |          enable_auth: Enable authentication and authorization\n",
      " |          auth_provider: Authentication provider – \"google\" or \"oauth\"\n",
      " |          if auth_provider is \"oauth\", the following fields are mandatory –\n",
      " |          oauth_grant_type, oauth_client_id, oauth_client_secret, oauth_audience, oauth_token_request_url\n",
      " |      \n",
      " |      Args:\n",
      " |          options: Configuration options to initialize client with\n",
      " |          **kwargs: Additional keyword arguments that will be used as\n",
      " |              configuration options along with \"options\"\n",
      " |  \n",
      " |  apply(self, objects: Union[List[Union[feast.entity.Entity, feast.feature_table.FeatureTable]], feast.entity.Entity, feast.feature_table.FeatureTable], project: str = None)\n",
      " |      Idempotently registers entities and feature tables with Feast Core. Either a single\n",
      " |      entity or feature table or a list can be provided.\n",
      " |      \n",
      " |      Args:\n",
      " |          objects: List of entities and/or feature tables that will be registered\n",
      " |      \n",
      " |      Examples:\n",
      " |          >>> from feast import Client\n",
      " |          >>> from feast.entity import Entity\n",
      " |          >>> from feast.value_type import ValueType\n",
      " |          >>>\n",
      " |          >>> feast_client = Client(core_url=\"localhost:6565\")\n",
      " |          >>> entity = Entity(\n",
      " |          >>>     name=\"driver_entity\",\n",
      " |          >>>     description=\"Driver entity for car rides\",\n",
      " |          >>>     value_type=ValueType.STRING,\n",
      " |          >>>     labels={\n",
      " |          >>>         \"key\": \"val\"\n",
      " |          >>>     }\n",
      " |          >>> )\n",
      " |          >>> feast_client.apply(entity)\n",
      " |  \n",
      " |  apply_entity(self, entities: Union[List[feast.entity.Entity], feast.entity.Entity], project: str = None)\n",
      " |      Deprecated. Please see apply().\n",
      " |  \n",
      " |  apply_feature_table(self, feature_tables: Union[List[feast.feature_table.FeatureTable], feast.feature_table.FeatureTable], project: str = None)\n",
      " |      Deprecated. Please see apply().\n",
      " |  \n",
      " |  archive_project(self, project)\n",
      " |      Archives a project. Project will still continue to function for\n",
      " |      ingestion and retrieval, but will be in a read-only state. It will\n",
      " |      also not be visible from the Core API for management purposes.\n",
      " |      \n",
      " |      Args:\n",
      " |          project: Name of project to archive\n",
      " |  \n",
      " |  create_project(self, project: str)\n",
      " |      Creates a Feast project\n",
      " |      \n",
      " |      Args:\n",
      " |          project: Name of project\n",
      " |  \n",
      " |  delete_feature_table(self, name: str, project: str = None) -> None\n",
      " |      Deletes a feature table.\n",
      " |      \n",
      " |      Args:\n",
      " |          project: Feast project that this feature table belongs to\n",
      " |          name: Name of feature table\n",
      " |  \n",
      " |  get_entity(self, name: str, project: str = None) -> feast.entity.Entity\n",
      " |      Retrieves an entity.\n",
      " |      \n",
      " |      Args:\n",
      " |          project: Feast project that this entity belongs to\n",
      " |          name: Name of entity\n",
      " |      \n",
      " |      Returns:\n",
      " |          Returns either the specified entity, or raises an exception if\n",
      " |          none is found\n",
      " |  \n",
      " |  get_feature_table(self, name: str, project: str = None) -> feast.feature_table.FeatureTable\n",
      " |      Retrieves a feature table.\n",
      " |      \n",
      " |      Args:\n",
      " |          project: Feast project that this feature table belongs to\n",
      " |          name: Name of feature table\n",
      " |      \n",
      " |      Returns:\n",
      " |          Returns either the specified feature table, or raises an exception if\n",
      " |          none is found\n",
      " |  \n",
      " |  get_online_features(self, feature_refs: List[str], entity_rows: List[Dict[str, Any]], project: Union[str, NoneType] = None) -> feast.online_response.OnlineResponse\n",
      " |      Retrieves the latest online feature data from Feast Serving.\n",
      " |      Args:\n",
      " |          feature_refs: List of feature references that will be returned for each entity.\n",
      " |              Each feature reference should have the following format:\n",
      " |              \"feature_table:feature\" where \"feature_table\" & \"feature\" refer to\n",
      " |              the feature and feature table names respectively.\n",
      " |              Only the feature name is required.\n",
      " |          entity_rows: A list of dictionaries where each key-value is an entity-name, entity-value pair.\n",
      " |          project: Optionally specify the the project override. If specified, uses given project for retrieval.\n",
      " |              Overrides the projects specified in Feature References if also are specified.\n",
      " |      Returns:\n",
      " |          GetOnlineFeaturesResponse containing the feature data in records.\n",
      " |          Each EntityRow provided will yield one record, which contains\n",
      " |          data fields with data value and field status metadata (if included).\n",
      " |      Examples:\n",
      " |          >>> from feast import Client\n",
      " |          >>>\n",
      " |          >>> feast_client = Client(core_url=\"localhost:6565\", serving_url=\"localhost:6566\")\n",
      " |          >>> feature_refs = [\"sales:daily_transactions\"]\n",
      " |          >>> entity_rows = [{\"customer_id\": 0},{\"customer_id\": 1}]\n",
      " |          >>>\n",
      " |          >>> online_response = feast_client.get_online_features(\n",
      " |          >>>     feature_refs, entity_rows, project=\"my_project\")\n",
      " |          >>> online_response_dict = online_response.to_dict()\n",
      " |          >>> print(online_response_dict)\n",
      " |          {'sales:daily_transactions': [1.1,1.2], 'sales:customer_id': [0,1]}\n",
      " |  \n",
      " |  ingest(self, feature_table: Union[str, feast.feature_table.FeatureTable], source: Union[pandas.core.frame.DataFrame, str], project: str = None, chunk_size: int = 10000, max_workers: int = 11, timeout: int = 120) -> None\n",
      " |      Batch load feature data into a FeatureTable.\n",
      " |      \n",
      " |      Args:\n",
      " |          feature_table (typing.Union[str, feast.feature_table.FeatureTable]):\n",
      " |              FeatureTable object or the string name of the feature table\n",
      " |      \n",
      " |          source (typing.Union[pd.DataFrame, str]):\n",
      " |              Either a file path or Pandas Dataframe to ingest into Feast\n",
      " |              Files that are currently supported:\n",
      " |                  * parquet\n",
      " |                  * csv\n",
      " |                  * json\n",
      " |      \n",
      " |          project: Feast project to locate FeatureTable\n",
      " |      \n",
      " |          chunk_size (int):\n",
      " |              Amount of rows to load and ingest at a time.\n",
      " |      \n",
      " |          max_workers (int):\n",
      " |              Number of worker processes to use to encode values.\n",
      " |      \n",
      " |          timeout (int):\n",
      " |              Timeout in seconds to wait for completion.\n",
      " |      \n",
      " |      Examples:\n",
      " |          >>> from feast import Client\n",
      " |          >>>\n",
      " |          >>> client = Client(core_url=\"localhost:6565\")\n",
      " |          >>> ft_df = pd.DataFrame(\n",
      " |          >>>         {\n",
      " |          >>>            \"datetime\": [pd.datetime.now()],\n",
      " |          >>>            \"driver\": [1001],\n",
      " |          >>>            \"rating\": [4.3],\n",
      " |          >>>         }\n",
      " |          >>>     )\n",
      " |          >>> client.set_project(\"project1\")\n",
      " |          >>>\n",
      " |          >>> driver_ft = client.get_feature_table(\"driver\")\n",
      " |          >>> client.ingest(driver_ft, ft_df)\n",
      " |  \n",
      " |  list_entities(self, project: str = None, labels: Dict[str, str] = {}) -> List[feast.entity.Entity]\n",
      " |      Retrieve a list of entities from Feast Core\n",
      " |      \n",
      " |      Args:\n",
      " |          project: Filter entities based on project name\n",
      " |          labels: User-defined labels that these entities are associated with\n",
      " |      \n",
      " |      Returns:\n",
      " |          List of entities\n",
      " |  \n",
      " |  list_feature_tables(self, project: str = None, labels: Dict[str, str] = {}) -> List[feast.feature_table.FeatureTable]\n",
      " |      Retrieve a list of feature tables from Feast Core\n",
      " |      \n",
      " |      Args:\n",
      " |          project: Filter feature tables based on project name\n",
      " |      \n",
      " |      Returns:\n",
      " |          List of feature tables\n",
      " |  \n",
      " |  list_features_by_ref(self, project: str = None, entities: List[str] = [], labels: Dict[str, str] = {}) -> Dict[feast.feature.FeatureRef, feast.feature.Feature]\n",
      " |      Retrieve a dictionary of feature reference to feature from Feast Core based on filters provided.\n",
      " |      \n",
      " |      Args:\n",
      " |          project: Feast project that these features belongs to\n",
      " |          entities: Feast entity that these features are associated with\n",
      " |          labels: Feast labels that these features are associated with\n",
      " |      \n",
      " |      Returns:\n",
      " |          Dictionary of <feature references: features>\n",
      " |      \n",
      " |      Examples:\n",
      " |          >>> from feast import Client\n",
      " |          >>>\n",
      " |          >>> feast_client = Client(core_url=\"localhost:6565\")\n",
      " |          >>> features = feast_client.list_features(project=\"test_project\", entities=[\"driver_id\"], labels={\"key1\":\"val1\",\"key2\":\"val2\"})\n",
      " |          >>> print(features)\n",
      " |  \n",
      " |  list_projects(self) -> List[str]\n",
      " |      List all active Feast projects\n",
      " |      \n",
      " |      Returns:\n",
      " |          List of project names\n",
      " |  \n",
      " |  set_project(self, project: Union[str, NoneType] = None)\n",
      " |      Set currently active Feast project\n",
      " |      \n",
      " |      Args:\n",
      " |          project: Project to set as active. If unset, will reset to the default project.\n",
      " |  \n",
      " |  version(self, sdk_only=False)\n",
      " |      Returns version information from Feast Core and Feast Serving\n",
      " |  \n",
      " |  ----------------------------------------------------------------------\n",
      " |  Data descriptors defined here:\n",
      " |  \n",
      " |  __dict__\n",
      " |      dictionary for instance variables (if defined)\n",
      " |  \n",
      " |  __weakref__\n",
      " |      list of weak references to the object (if defined)\n",
      " |  \n",
      " |  config\n",
      " |  \n",
      " |  core_secure\n",
      " |      Retrieve Feast Core client-side SSL/TLS setting\n",
      " |      \n",
      " |      Returns:\n",
      " |          Whether client-side SSL/TLS is enabled\n",
      " |  \n",
      " |  core_url\n",
      " |      Retrieve Feast Core URL\n",
      " |      \n",
      " |      Returns:\n",
      " |          Feast Core URL string\n",
      " |  \n",
      " |  job_service_secure\n",
      " |      Retrieve Feast Job Service client-side SSL/TLS setting\n",
      " |      \n",
      " |      Returns:\n",
      " |          Whether client-side SSL/TLS is enabled\n",
      " |  \n",
      " |  job_service_url\n",
      " |      Retrieve Feast Job Service URL\n",
      " |      \n",
      " |      Returns:\n",
      " |          Feast Job Service URL string\n",
      " |  \n",
      " |  project\n",
      " |      Retrieve currently active project\n",
      " |      \n",
      " |      Returns:\n",
      " |          Project name\n",
      " |  \n",
      " |  serving_secure\n",
      " |      Retrieve Feast Serving client-side SSL/TLS setting\n",
      " |      \n",
      " |      Returns:\n",
      " |          Whether client-side SSL/TLS is enabled\n",
      " |  \n",
      " |  serving_url\n",
      " |      Retrieve Feast Serving URL\n",
      " |      \n",
      " |      Returns:\n",
      " |          Feast Serving URL string\n",
      "\n"
     ]
    }
   ],
   "source": [
    "help(client)"
   ]
  },
  {
   "cell_type": "code",
   "execution_count": 67,
   "id": "rapid-hughes",
   "metadata": {},
   "outputs": [
    {
     "ename": "AttributeError",
     "evalue": "'Client' object has no attribute 'get_historical_features'",
     "output_type": "error",
     "traceback": [
      "\u001b[0;31m---------------------------------------------------------------------------\u001b[0m",
      "\u001b[0;31mAttributeError\u001b[0m                            Traceback (most recent call last)",
      "\u001b[0;32m<ipython-input-67-f35af10f7f66>\u001b[0m in \u001b[0;36m<module>\u001b[0;34m\u001b[0m\n\u001b[0;32m----> 1\u001b[0;31m job = client.get_historical_features(\n\u001b[0m\u001b[1;32m      2\u001b[0m     feature_refs=[\n\u001b[1;32m      3\u001b[0m         \u001b[0;34m\"invoices:InvoiceDate\"\u001b[0m\u001b[0;34m\u001b[0m\u001b[0;34m\u001b[0m\u001b[0m\n\u001b[1;32m      4\u001b[0m     ], \n\u001b[1;32m      5\u001b[0m )\n",
      "\u001b[0;31mAttributeError\u001b[0m: 'Client' object has no attribute 'get_historical_features'"
     ]
    }
   ],
   "source": [
    "job = client.get_historical_features(\n",
    "    feature_refs=[\n",
    "        \"invoices:InvoiceDate\"\n",
    "    ], \n",
    ")"
   ]
  },
  {
   "cell_type": "code",
   "execution_count": null,
   "id": "naval-print",
   "metadata": {},
   "outputs": [],
   "source": []
  },
  {
   "cell_type": "code",
   "execution_count": null,
   "id": "knowing-stand",
   "metadata": {},
   "outputs": [],
   "source": []
  },
  {
   "cell_type": "code",
   "execution_count": 68,
   "id": "rising-water",
   "metadata": {},
   "outputs": [
    {
     "name": "stderr",
     "output_type": "stream",
     "text": [
      "/plain/github/opensource/Featurologists/venv/lib/python3.7/site-packages/ipykernel/ipkernel.py:283: DeprecationWarning: `should_run_async` will not call `transform_cell` automatically in the future. Please pass the result to `transformed_cell` argument and any exception that happen during thetransform in `preprocessing_exc_tuple` in IPython 7.17 and above.\n",
      "  and should_run_async(code)\n"
     ]
    }
   ],
   "source": [
    "for p in port_forward_processes:\n",
    "    p.kill()"
   ]
  },
  {
   "cell_type": "code",
   "execution_count": null,
   "id": "focal-scale",
   "metadata": {},
   "outputs": [],
   "source": []
  }
 ],
 "metadata": {
  "kernelspec": {
   "display_name": "featurologists",
   "language": "python",
   "name": "featurologists"
  },
  "language_info": {
   "codemirror_mode": {
    "name": "ipython",
    "version": 3
   },
   "file_extension": ".py",
   "mimetype": "text/x-python",
   "name": "python",
   "nbconvert_exporter": "python",
   "pygments_lexer": "ipython3",
   "version": "3.7.6"
  }
 },
 "nbformat": 4,
 "nbformat_minor": 5
}
