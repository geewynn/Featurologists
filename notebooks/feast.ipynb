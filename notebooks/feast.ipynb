{
 "cells": [
  {
   "cell_type": "code",
   "execution_count": 1,
   "id": "dirty-royal",
   "metadata": {},
   "outputs": [],
   "source": [
    "%load_ext autoreload\n",
    "%autoreload 2"
   ]
  },
  {
   "cell_type": "code",
   "execution_count": 2,
   "id": "passing-clone",
   "metadata": {},
   "outputs": [],
   "source": [
    "import logging\n",
    "\n",
    "for handler in logging.root.handlers:\n",
    "    logging.root.removeHandler(handler)\n",
    "logging.basicConfig(level=logging.INFO)"
   ]
  },
  {
   "cell_type": "code",
   "execution_count": 3,
   "id": "vulnerable-disposal",
   "metadata": {},
   "outputs": [],
   "source": [
    "# Set project root\n",
    "from pathlib import Path\n",
    "\n",
    "PROJECT_ROOT = Path(\"..\").resolve()\n",
    "PROJECT_ROOT_LS = [p.name for p in PROJECT_ROOT.iterdir()]\n",
    "assert \"featurologists\" in PROJECT_ROOT_LS, f\"Not a project root? {PROJECT_ROOT}, pwd: {Path().resolve()}\""
   ]
  },
  {
   "cell_type": "code",
   "execution_count": 4,
   "id": "absent-psychiatry",
   "metadata": {},
   "outputs": [
    {
     "name": "stdout",
     "output_type": "stream",
     "text": [
      "K8S_FEAST_NS=feast-dev\n"
     ]
    }
   ],
   "source": [
    "import os\n",
    "\n",
    "K8S_FEAST_NS = os.environ.get('K8S_FEAST_NS', 'feast-dev')\n",
    "print(f'K8S_FEAST_NS={K8S_FEAST_NS}')"
   ]
  },
  {
   "cell_type": "code",
   "execution_count": 8,
   "id": "collaborative-leave",
   "metadata": {},
   "outputs": [],
   "source": [
    "from featurologists.utils import kubectl_port_forward"
   ]
  },
  {
   "cell_type": "code",
   "execution_count": 9,
   "id": "neural-ozone",
   "metadata": {},
   "outputs": [],
   "source": [
    "port_forward_processes = []"
   ]
  },
  {
   "cell_type": "code",
   "execution_count": 10,
   "id": "worldwide-arcade",
   "metadata": {},
   "outputs": [
    {
     "name": "stdout",
     "output_type": "stream",
     "text": [
      "pid: 341319\n",
      "Port-forward process for 'service/feast-release-feast-core' seems to be working: check 'localhost:34971'\n"
     ]
    }
   ],
   "source": [
    "feast_core_process, feast_core_port = kubectl_port_forward(K8S_FEAST_NS, 'service/feast-release-feast-core', 6565)\n",
    "\n",
    "port_forward_processes.append(feast_core_process)"
   ]
  },
  {
   "cell_type": "code",
   "execution_count": 11,
   "id": "green-passing",
   "metadata": {},
   "outputs": [],
   "source": [
    "import os\n",
    "\n",
    "from feast import Client, Feature, Entity, ValueType, FeatureTable\n",
    "from feast.data_source import FileSource, KafkaSource\n",
    "from feast.data_format import ParquetFormat, AvroFormat"
   ]
  },
  {
   "cell_type": "code",
   "execution_count": 12,
   "id": "private-builder",
   "metadata": {},
   "outputs": [
    {
     "name": "stderr",
     "output_type": "stream",
     "text": [
      "/plain/github/opensource/Featurologists/venv/lib/python3.7/site-packages/ipykernel/ipkernel.py:283: DeprecationWarning: `should_run_async` will not call `transform_cell` automatically in the future. Please pass the result to `transformed_cell` argument and any exception that happen during thetransform in `preprocessing_exc_tuple` in IPython 7.17 and above.\n",
      "  and should_run_async(code)\n"
     ]
    },
    {
     "data": {
      "text/plain": [
       "['default']"
      ]
     },
     "execution_count": 12,
     "metadata": {},
     "output_type": "execute_result"
    }
   ],
   "source": [
    "client = Client(core_url=f\"localhost:{feast_core_port}\") #, serving_url='localhost:8092')\n",
    "client.list_projects()"
   ]
  },
  {
   "cell_type": "code",
   "execution_count": 13,
   "id": "rough-sailing",
   "metadata": {},
   "outputs": [],
   "source": [
    "DATA_FEAST_PATH = PROJECT_ROOT / 'data-feast'\n",
    "\n",
    "offline_clusters_location = f'file://{DATA_FEAST_PATH}'"
   ]
  },
  {
   "cell_type": "code",
   "execution_count": 16,
   "id": "demanding-device",
   "metadata": {},
   "outputs": [
    {
     "name": "stdout",
     "output_type": "stream",
     "text": [
      "Quantity,UnitPrice,Country,InvoiceDate_year,InvoiceDate_month,InvoiceDate_day,InvoiceDate_hour,InvoiceDate_minute,InvoiceDate_second,IsCancelled\r\n",
      "6,2.55,34,2010,12,1,8,26,0,0\r\n"
     ]
    }
   ],
   "source": [
    "! head -n2 {PROJECT_ROOT}/data/output/cancellation_prediction/offline_preprocessed.csv\n",
    "# Quantity,UnitPrice,Country,InvoiceDate_year,InvoiceDate_month,InvoiceDate_day,InvoiceDate_hour,InvoiceDate_minute,InvoiceDate_second,IsCancelled"
   ]
  },
  {
   "cell_type": "code",
   "execution_count": 13,
   "id": "canadian-variation",
   "metadata": {},
   "outputs": [
    {
     "ename": "SyntaxError",
     "evalue": "invalid syntax (<ipython-input-13-b9f61324c485>, line 27)",
     "output_type": "error",
     "traceback": [
      "\u001b[0;36m  File \u001b[0;32m\"<ipython-input-13-b9f61324c485>\"\u001b[0;36m, line \u001b[0;32m27\u001b[0m\n\u001b[0;31m    ],\u001b[0m\n\u001b[0m    ^\u001b[0m\n\u001b[0;31mSyntaxError\u001b[0m\u001b[0;31m:\u001b[0m invalid syntax\n"
     ]
    }
   ],
   "source": [
    "invoice_id = Entity(name=\"invoice_id\", description=\"Invoice ID\", value_type=ValueType.INT64)\n",
    "\n",
    "offline_clusters_source_uri = os.path.join(offline_clusters_location, \"offline_preprocessed_csv\")\n",
    "\n",
    "customer_clusters = FeatureTable(\n",
    "    name = \"invoices\",\n",
    "    entities = [\"invoice_id\"],\n",
    "    features = [\n",
    "        Feature(\"Quantity\", ValueType.INT64),\n",
    "        Feature(\"UnitPrice\", ValueType.FLOAT),\n",
    "        Feature(\"Country\", ValueType.INT64),\n",
    "        Feature(\"InvoiceDate_year\", ValueType.INT64),\n",
    "        Feature(\"InvoiceDate_month\", ValueType.INT64),\n",
    "        Feature(\"InvoiceDate_day\", ValueType.INT64),\n",
    "        Feature(\"InvoiceDate_hour\", ValueType.INT64),\n",
    "        Feature(\"InvoiceDate_minute\", ValueType.INT64),\n",
    "        Feature(\"InvoiceDate_second\", ValueType.INT64),\n",
    "        Feature(\"IsCancelled\", ValueType.INT64),        \n",
    "    ],\n",
    "    batch_source=FileSource(\n",
    "        event_timestamp_column=\"\",\n",
    "        created_timestamp_column=\"created\",\n",
    "        file_format=ParquetFormat(),\n",
    "        file_url=driver_statistics_source_uri,\n",
    "        date_partition_column=\"date\"\n",
    "    )\n",
    ")"
   ]
  },
  {
   "cell_type": "code",
   "execution_count": 68,
   "id": "caroline-destination",
   "metadata": {},
   "outputs": [
    {
     "name": "stderr",
     "output_type": "stream",
     "text": [
      "/plain/github/opensource/Featurologists/venv/lib/python3.7/site-packages/ipykernel/ipkernel.py:283: DeprecationWarning: `should_run_async` will not call `transform_cell` automatically in the future. Please pass the result to `transformed_cell` argument and any exception that happen during thetransform in `preprocessing_exc_tuple` in IPython 7.17 and above.\n",
      "  and should_run_async(code)\n"
     ]
    }
   ],
   "source": [
    "for p in port_forward_processes:\n",
    "    p.kill()"
   ]
  },
  {
   "cell_type": "code",
   "execution_count": null,
   "id": "sudden-nickname",
   "metadata": {},
   "outputs": [],
   "source": []
  }
 ],
 "metadata": {
  "kernelspec": {
   "display_name": "featurologists",
   "language": "python",
   "name": "featurologists"
  },
  "language_info": {
   "codemirror_mode": {
    "name": "ipython",
    "version": 3
   },
   "file_extension": ".py",
   "mimetype": "text/x-python",
   "name": "python",
   "nbconvert_exporter": "python",
   "pygments_lexer": "ipython3",
   "version": "3.7.6"
  }
 },
 "nbformat": 4,
 "nbformat_minor": 5
}
