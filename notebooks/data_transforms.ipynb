{
 "cells": [
  {
   "cell_type": "code",
   "execution_count": 1,
   "id": "prostate-vancouver",
   "metadata": {},
   "outputs": [],
   "source": [
    "%load_ext autoreload\n",
    "%autoreload 2"
   ]
  },
  {
   "cell_type": "code",
   "execution_count": 105,
   "id": "english-oklahoma",
   "metadata": {},
   "outputs": [],
   "source": [
    "import random\n",
    "random.seed(42)"
   ]
  },
  {
   "cell_type": "code",
   "execution_count": 2,
   "id": "european-cooperation",
   "metadata": {},
   "outputs": [],
   "source": [
    "import logging\n",
    "\n",
    "for handler in logging.root.handlers:\n",
    "    logging.root.removeHandler(handler)\n",
    "logging.basicConfig(level=logging.INFO)"
   ]
  },
  {
   "cell_type": "code",
   "execution_count": 3,
   "id": "beautiful-grade",
   "metadata": {},
   "outputs": [],
   "source": [
    "import datetime"
   ]
  },
  {
   "cell_type": "code",
   "execution_count": 4,
   "id": "contemporary-white",
   "metadata": {},
   "outputs": [],
   "source": [
    "# Set project root\n",
    "from pathlib import Path\n",
    "\n",
    "PROJECT_ROOT = Path(\"..\").resolve()\n",
    "PROJECT_ROOT_LS = [p.name for p in PROJECT_ROOT.iterdir()]\n",
    "assert \"featurologists\" in PROJECT_ROOT_LS, f\"Not a project root? {PROJECT_ROOT}, pwd: {Path().resolve()}\""
   ]
  },
  {
   "cell_type": "code",
   "execution_count": 22,
   "id": "every-battlefield",
   "metadata": {},
   "outputs": [
    {
     "name": "stderr",
     "output_type": "stream",
     "text": [
      "INFO:root:Downloading dataset 'https://raw.githubusercontent.com/artemlops/customer-segmentation-toolkit/master/data/data.csv'\n"
     ]
    },
    {
     "name": "stdout",
     "output_type": "stream",
     "text": [
      "data: (541909, 8)\n",
      "['InvoiceNo', 'StockCode', 'Description', 'Quantity', 'InvoiceDate', 'UnitPrice', 'CustomerID', 'Country']\n"
     ]
    }
   ],
   "source": [
    "from customer_segmentation_toolkit.data_zoo import download_data_csv\n",
    "\n",
    "data = download_data_csv('data/data.csv', datetime_columns=['InvoiceDate'])\n",
    "print(f'data: {data.shape}\\n{list(data.columns)}')"
   ]
  },
  {
   "cell_type": "code",
   "execution_count": 23,
   "id": "verified-assault",
   "metadata": {},
   "outputs": [
    {
     "name": "stdout",
     "output_type": "stream",
     "text": [
      "Saved to /plain/github/opensource/Featurologists/data/data.csv\n"
     ]
    }
   ],
   "source": [
    "data_path = PROJECT_ROOT / \"data/data.csv\"\n",
    "data_path.parent.mkdir(exist_ok=True)\n",
    "data.to_csv(data_path, index=False)\n",
    "print(f'Saved to {data_path}')"
   ]
  },
  {
   "cell_type": "markdown",
   "id": "according-encounter",
   "metadata": {},
   "source": [
    "## data.csv -> (offline_raw.csv + online_raw.csv):"
   ]
  },
  {
   "cell_type": "code",
   "execution_count": 24,
   "id": "understanding-norman",
   "metadata": {},
   "outputs": [
    {
     "name": "stdout",
     "output_type": "stream",
     "text": [
      "offline_raw: (370931, 8)\n",
      "['InvoiceNo', 'StockCode', 'Description', 'Quantity', 'InvoiceDate', 'UnitPrice', 'CustomerID', 'Country']\n",
      "online_raw: (170978, 8)\n",
      "['InvoiceNo', 'StockCode', 'Description', 'Quantity', 'InvoiceDate', 'UnitPrice', 'CustomerID', 'Country']\n"
     ]
    }
   ],
   "source": [
    "from customer_segmentation_toolkit.load_split import split_by_invoice_date\n",
    "DATE_SPLIT = datetime.date(2011,10,1)\n",
    "\n",
    "offline_raw, online_raw = split_by_invoice_date(data, DATE_SPLIT)\n",
    "\n",
    "print(f'offline_raw: {offline_raw.shape}\\n{list(offline_raw.columns)}')\n",
    "print(f'online_raw: {online_raw.shape}\\n{list(online_raw.columns)}')"
   ]
  },
  {
   "cell_type": "code",
   "execution_count": 25,
   "id": "ethical-roulette",
   "metadata": {},
   "outputs": [
    {
     "name": "stdout",
     "output_type": "stream",
     "text": [
      "Saved to /plain/github/opensource/Featurologists/data/output/offline_raw.csv\n",
      "Saved to /plain/github/opensource/Featurologists/data/output/online_raw.csv\n"
     ]
    }
   ],
   "source": [
    "offline_raw_path = PROJECT_ROOT / \"data/output/offline_raw.csv\"\n",
    "offline_raw_path.parent.mkdir(exist_ok=True)\n",
    "offline_raw.to_csv(offline_raw_path, index=False)\n",
    "print(f'Saved to {offline_raw_path}')\n",
    "\n",
    "online_raw_path = PROJECT_ROOT / \"data/output/online_raw.csv\"\n",
    "online_raw_path.parent.mkdir(exist_ok=True)\n",
    "online_raw.to_csv(online_raw_path, index=False)\n",
    "print(f'Saved to {online_raw_path}')"
   ]
  },
  {
   "cell_type": "markdown",
   "id": "packed-representative",
   "metadata": {},
   "source": [
    "## offline_raw.csv -> offline_cleaned.csv:"
   ]
  },
  {
   "cell_type": "code",
   "execution_count": 115,
   "id": "essential-water",
   "metadata": {},
   "outputs": [
    {
     "name": "stdout",
     "output_type": "stream",
     "text": [
      "offline_cleaned: (263815, 10)\n",
      "['InvoiceNo', 'StockCode', 'Description', 'Quantity', 'InvoiceDate', 'UnitPrice', 'CustomerID', 'Country', 'QuantityCanceled', 'TotalPrice']\n"
     ]
    }
   ],
   "source": [
    "from customer_segmentation_toolkit.clean_rows import clean_data_rows\n",
    "\n",
    "offline_cleaned = clean_data_rows(offline_raw)\n",
    "print(f'offline_cleaned: {offline_cleaned.shape}\\n{list(offline_cleaned.columns)}')"
   ]
  },
  {
   "cell_type": "code",
   "execution_count": 116,
   "id": "abroad-queue",
   "metadata": {},
   "outputs": [
    {
     "name": "stdout",
     "output_type": "stream",
     "text": [
      "Saved to /plain/github/opensource/Featurologists/data/output/offline_cleaned.csv\n"
     ]
    }
   ],
   "source": [
    "offline_cleaned_path = PROJECT_ROOT / \"data/output/offline_cleaned.csv\"\n",
    "offline_cleaned_path.parent.mkdir(exist_ok=True)\n",
    "\n",
    "offline_cleaned.to_csv(offline_cleaned_path, index=False)\n",
    "print(f'Saved to {offline_cleaned_path}')"
   ]
  },
  {
   "cell_type": "markdown",
   "id": "stunning-radical",
   "metadata": {},
   "source": [
    "## offline_cleaned.csv -> offline_clusters.csv:"
   ]
  },
  {
   "cell_type": "code",
   "execution_count": 148,
   "id": "received-introduction",
   "metadata": {},
   "outputs": [
    {
     "name": "stdout",
     "output_type": "stream",
     "text": [
      "offline_clusters: (3616, 14)\n",
      "['CustomerID', 'count', 'min', 'max', 'mean', 'sum', 'categ_0', 'categ_1', 'categ_2', 'categ_3', 'categ_4', 'LastPurchase', 'FirstPurchase', 'cluster']\n"
     ]
    }
   ],
   "source": [
    "from featurologists.data_transforms import build_client_clusters\n",
    "\n",
    "offline_clusters = build_client_clusters(offline_cleaned)\n",
    "print(f'offline_clusters: {offline_clusters.shape}\\n{list(offline_clusters.columns)}')"
   ]
  },
  {
   "cell_type": "code",
   "execution_count": 149,
   "id": "sufficient-premium",
   "metadata": {},
   "outputs": [
    {
     "name": "stdout",
     "output_type": "stream",
     "text": [
      "Saved to /plain/github/opensource/Featurologists/data/output/offline_clusters.csv\n"
     ]
    }
   ],
   "source": [
    "offline_clusters_path = PROJECT_ROOT / \"data/output/offline_clusters.csv\"\n",
    "offline_clusters_path.parent.mkdir(exist_ok=True)\n",
    "\n",
    "offline_clusters.to_csv(offline_clusters_path, index=False)\n",
    "print(f'Saved to {offline_clusters_path}')"
   ]
  },
  {
   "cell_type": "code",
   "execution_count": null,
   "id": "recorded-screening",
   "metadata": {},
   "outputs": [],
   "source": []
  }
 ],
 "metadata": {
  "kernelspec": {
   "display_name": "featurologists",
   "language": "python",
   "name": "featurologists"
  },
  "language_info": {
   "codemirror_mode": {
    "name": "ipython",
    "version": 3
   },
   "file_extension": ".py",
   "mimetype": "text/x-python",
   "name": "python",
   "nbconvert_exporter": "python",
   "pygments_lexer": "ipython3",
   "version": "3.7.6"
  }
 },
 "nbformat": 4,
 "nbformat_minor": 5
}
