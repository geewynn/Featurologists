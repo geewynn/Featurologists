{
 "cells": [
  {
   "cell_type": "code",
   "execution_count": 1,
   "id": "exact-spain",
   "metadata": {},
   "outputs": [],
   "source": [
    "%load_ext autoreload\n",
    "%autoreload 2"
   ]
  },
  {
   "cell_type": "code",
   "execution_count": 2,
   "id": "golden-devon",
   "metadata": {},
   "outputs": [],
   "source": [
    "import random\n",
    "random.seed(42)"
   ]
  },
  {
   "cell_type": "code",
   "execution_count": 3,
   "id": "architectural-studio",
   "metadata": {},
   "outputs": [],
   "source": [
    "import logging\n",
    "\n",
    "for handler in logging.root.handlers:\n",
    "    logging.root.removeHandler(handler)\n",
    "logging.basicConfig(level=logging.INFO)"
   ]
  },
  {
   "cell_type": "code",
   "execution_count": 4,
   "id": "facial-natural",
   "metadata": {},
   "outputs": [],
   "source": [
    "import datetime"
   ]
  },
  {
   "cell_type": "code",
   "execution_count": 5,
   "id": "fifteen-novel",
   "metadata": {},
   "outputs": [],
   "source": [
    "# Set project root\n",
    "from pathlib import Path\n",
    "\n",
    "PROJECT_ROOT = Path(\"..\").resolve()\n",
    "PROJECT_ROOT_LS = [p.name for p in PROJECT_ROOT.iterdir()]\n",
    "assert \"featurologists\" in PROJECT_ROOT_LS, f\"Not a project root? {PROJECT_ROOT}, pwd: {Path().resolve()}\""
   ]
  },
  {
   "cell_type": "code",
   "execution_count": 6,
   "id": "boolean-medicaid",
   "metadata": {},
   "outputs": [
    {
     "name": "stderr",
     "output_type": "stream",
     "text": [
      "INFO:root:Downloading dataset 'https://raw.githubusercontent.com/artemlops/customer-segmentation-toolkit/master/data/data.csv'\n"
     ]
    },
    {
     "name": "stdout",
     "output_type": "stream",
     "text": [
      "data: (541909, 8)\n",
      "['InvoiceNo', 'StockCode', 'Description', 'Quantity', 'InvoiceDate', 'UnitPrice', 'CustomerID', 'Country']\n"
     ]
    }
   ],
   "source": [
    "from customer_segmentation_toolkit.data_zoo import download_data_csv\n",
    "\n",
    "data = download_data_csv('data/data.csv', datetime_columns=['InvoiceDate'])\n",
    "print(f'data: {data.shape}\\n{list(data.columns)}')"
   ]
  },
  {
   "cell_type": "code",
   "execution_count": 7,
   "id": "polish-badge",
   "metadata": {
    "scrolled": true
   },
   "outputs": [
    {
     "data": {
      "text/plain": [
       "InvoiceNo              object\n",
       "StockCode              object\n",
       "Description            object\n",
       "Quantity                int64\n",
       "InvoiceDate    datetime64[ns]\n",
       "UnitPrice             float64\n",
       "CustomerID            float64\n",
       "Country                object\n",
       "dtype: object"
      ]
     },
     "execution_count": 7,
     "metadata": {},
     "output_type": "execute_result"
    }
   ],
   "source": [
    "data.dtypes"
   ]
  },
  {
   "cell_type": "code",
   "execution_count": 8,
   "id": "psychological-detector",
   "metadata": {},
   "outputs": [
    {
     "name": "stdout",
     "output_type": "stream",
     "text": [
      "Saved to /plain/github/opensource/Featurologists/data/data.csv\n"
     ]
    }
   ],
   "source": [
    "data_path = PROJECT_ROOT / \"data/data.csv\"\n",
    "data_path.parent.mkdir(exist_ok=True)\n",
    "data.to_csv(data_path, index=False)\n",
    "print(f'Saved to {data_path}')"
   ]
  },
  {
   "cell_type": "markdown",
   "id": "iraqi-indonesian",
   "metadata": {},
   "source": [
    "## data.csv -> (offline_raw.csv + online_raw.csv):"
   ]
  },
  {
   "cell_type": "code",
   "execution_count": 9,
   "id": "spoken-pressing",
   "metadata": {},
   "outputs": [
    {
     "name": "stdout",
     "output_type": "stream",
     "text": [
      "offline_raw: (370931, 8)\n",
      "['InvoiceNo', 'StockCode', 'Description', 'Quantity', 'InvoiceDate', 'UnitPrice', 'CustomerID', 'Country']\n",
      "online_raw: (170978, 8)\n",
      "['InvoiceNo', 'StockCode', 'Description', 'Quantity', 'InvoiceDate', 'UnitPrice', 'CustomerID', 'Country']\n"
     ]
    }
   ],
   "source": [
    "from customer_segmentation_toolkit.load_split import split_by_invoice_date\n",
    "DATE_SPLIT = datetime.date(2011,10,1)\n",
    "\n",
    "offline_raw, online_raw = split_by_invoice_date(data, DATE_SPLIT)\n",
    "\n",
    "print(f'offline_raw: {offline_raw.shape}\\n{list(offline_raw.columns)}')\n",
    "print(f'online_raw: {online_raw.shape}\\n{list(online_raw.columns)}')"
   ]
  },
  {
   "cell_type": "code",
   "execution_count": 10,
   "id": "prepared-leeds",
   "metadata": {},
   "outputs": [
    {
     "name": "stdout",
     "output_type": "stream",
     "text": [
      "Saved to /plain/github/opensource/Featurologists/data/output/offline_raw.csv\n",
      "Saved to /plain/github/opensource/Featurologists/data/output/online_raw.csv\n"
     ]
    }
   ],
   "source": [
    "offline_raw_path = PROJECT_ROOT / \"data/output/offline_raw.csv\"\n",
    "offline_raw_path.parent.mkdir(exist_ok=True)\n",
    "offline_raw.to_csv(offline_raw_path, index=False)\n",
    "print(f'Saved to {offline_raw_path}')\n",
    "\n",
    "online_raw_path = PROJECT_ROOT / \"data/output/online_raw.csv\"\n",
    "online_raw_path.parent.mkdir(exist_ok=True)\n",
    "online_raw.to_csv(online_raw_path, index=False)\n",
    "print(f'Saved to {online_raw_path}')"
   ]
  },
  {
   "cell_type": "markdown",
   "id": "bound-lobby",
   "metadata": {},
   "source": [
    "## offline_raw.csv -> offline_cleaned.csv:"
   ]
  },
  {
   "cell_type": "code",
   "execution_count": 11,
   "id": "incomplete-luxembourg",
   "metadata": {},
   "outputs": [
    {
     "name": "stdout",
     "output_type": "stream",
     "text": [
      "offline_cleaned: (263815, 10)\n",
      "['InvoiceNo', 'StockCode', 'Description', 'Quantity', 'InvoiceDate', 'UnitPrice', 'CustomerID', 'Country', 'QuantityCanceled', 'TotalPrice']\n"
     ]
    }
   ],
   "source": [
    "from customer_segmentation_toolkit.clean_rows import clean_data_rows\n",
    "\n",
    "offline_cleaned = clean_data_rows(offline_raw)\n",
    "print(f'offline_cleaned: {offline_cleaned.shape}\\n{list(offline_cleaned.columns)}')"
   ]
  },
  {
   "cell_type": "code",
   "execution_count": 12,
   "id": "distant-teens",
   "metadata": {},
   "outputs": [
    {
     "name": "stdout",
     "output_type": "stream",
     "text": [
      "Saved to /plain/github/opensource/Featurologists/data/output/offline_cleaned.csv\n"
     ]
    }
   ],
   "source": [
    "offline_cleaned_path = PROJECT_ROOT / \"data/output/offline_cleaned.csv\"\n",
    "offline_cleaned_path.parent.mkdir(exist_ok=True)\n",
    "\n",
    "offline_cleaned.to_csv(offline_cleaned_path, index=False)\n",
    "print(f'Saved to {offline_cleaned_path}')"
   ]
  },
  {
   "cell_type": "markdown",
   "id": "norman-salmon",
   "metadata": {},
   "source": [
    "# cancellation_prediction"
   ]
  },
  {
   "cell_type": "markdown",
   "id": "african-legislature",
   "metadata": {},
   "source": [
    "## offline_cleaned.csv -> offline_preprocessed.csv:"
   ]
  },
  {
   "cell_type": "code",
   "execution_count": 22,
   "id": "medieval-sheet",
   "metadata": {},
   "outputs": [
    {
     "data": {
      "text/html": [
       "<div>\n",
       "<style scoped>\n",
       "    .dataframe tbody tr th:only-of-type {\n",
       "        vertical-align: middle;\n",
       "    }\n",
       "\n",
       "    .dataframe tbody tr th {\n",
       "        vertical-align: top;\n",
       "    }\n",
       "\n",
       "    .dataframe thead th {\n",
       "        text-align: right;\n",
       "    }\n",
       "</style>\n",
       "<table border=\"1\" class=\"dataframe\">\n",
       "  <thead>\n",
       "    <tr style=\"text-align: right;\">\n",
       "      <th></th>\n",
       "      <th>Quantity</th>\n",
       "      <th>UnitPrice</th>\n",
       "      <th>Country</th>\n",
       "      <th>InvoiceDate_year</th>\n",
       "      <th>InvoiceDate_month</th>\n",
       "      <th>InvoiceDate_day</th>\n",
       "      <th>InvoiceDate_hour</th>\n",
       "      <th>InvoiceDate_minute</th>\n",
       "      <th>InvoiceDate_second</th>\n",
       "      <th>IsCancelled</th>\n",
       "    </tr>\n",
       "  </thead>\n",
       "  <tbody>\n",
       "    <tr>\n",
       "      <th>0</th>\n",
       "      <td>6</td>\n",
       "      <td>2.55</td>\n",
       "      <td>34</td>\n",
       "      <td>2010</td>\n",
       "      <td>12</td>\n",
       "      <td>1</td>\n",
       "      <td>8</td>\n",
       "      <td>26</td>\n",
       "      <td>0</td>\n",
       "      <td>0</td>\n",
       "    </tr>\n",
       "    <tr>\n",
       "      <th>1</th>\n",
       "      <td>6</td>\n",
       "      <td>3.39</td>\n",
       "      <td>34</td>\n",
       "      <td>2010</td>\n",
       "      <td>12</td>\n",
       "      <td>1</td>\n",
       "      <td>8</td>\n",
       "      <td>26</td>\n",
       "      <td>0</td>\n",
       "      <td>0</td>\n",
       "    </tr>\n",
       "    <tr>\n",
       "      <th>2</th>\n",
       "      <td>8</td>\n",
       "      <td>2.75</td>\n",
       "      <td>34</td>\n",
       "      <td>2010</td>\n",
       "      <td>12</td>\n",
       "      <td>1</td>\n",
       "      <td>8</td>\n",
       "      <td>26</td>\n",
       "      <td>0</td>\n",
       "      <td>0</td>\n",
       "    </tr>\n",
       "    <tr>\n",
       "      <th>3</th>\n",
       "      <td>6</td>\n",
       "      <td>3.39</td>\n",
       "      <td>34</td>\n",
       "      <td>2010</td>\n",
       "      <td>12</td>\n",
       "      <td>1</td>\n",
       "      <td>8</td>\n",
       "      <td>26</td>\n",
       "      <td>0</td>\n",
       "      <td>0</td>\n",
       "    </tr>\n",
       "    <tr>\n",
       "      <th>4</th>\n",
       "      <td>6</td>\n",
       "      <td>3.39</td>\n",
       "      <td>34</td>\n",
       "      <td>2010</td>\n",
       "      <td>12</td>\n",
       "      <td>1</td>\n",
       "      <td>8</td>\n",
       "      <td>26</td>\n",
       "      <td>0</td>\n",
       "      <td>0</td>\n",
       "    </tr>\n",
       "    <tr>\n",
       "      <th>...</th>\n",
       "      <td>...</td>\n",
       "      <td>...</td>\n",
       "      <td>...</td>\n",
       "      <td>...</td>\n",
       "      <td>...</td>\n",
       "      <td>...</td>\n",
       "      <td>...</td>\n",
       "      <td>...</td>\n",
       "      <td>...</td>\n",
       "      <td>...</td>\n",
       "    </tr>\n",
       "    <tr>\n",
       "      <th>370675</th>\n",
       "      <td>4</td>\n",
       "      <td>4.25</td>\n",
       "      <td>34</td>\n",
       "      <td>2011</td>\n",
       "      <td>9</td>\n",
       "      <td>30</td>\n",
       "      <td>15</td>\n",
       "      <td>52</td>\n",
       "      <td>0</td>\n",
       "      <td>0</td>\n",
       "    </tr>\n",
       "    <tr>\n",
       "      <th>370676</th>\n",
       "      <td>4</td>\n",
       "      <td>4.25</td>\n",
       "      <td>34</td>\n",
       "      <td>2011</td>\n",
       "      <td>9</td>\n",
       "      <td>30</td>\n",
       "      <td>15</td>\n",
       "      <td>52</td>\n",
       "      <td>0</td>\n",
       "      <td>0</td>\n",
       "    </tr>\n",
       "    <tr>\n",
       "      <th>370677</th>\n",
       "      <td>12</td>\n",
       "      <td>2.10</td>\n",
       "      <td>34</td>\n",
       "      <td>2011</td>\n",
       "      <td>9</td>\n",
       "      <td>30</td>\n",
       "      <td>15</td>\n",
       "      <td>52</td>\n",
       "      <td>0</td>\n",
       "      <td>0</td>\n",
       "    </tr>\n",
       "    <tr>\n",
       "      <th>370678</th>\n",
       "      <td>12</td>\n",
       "      <td>2.10</td>\n",
       "      <td>34</td>\n",
       "      <td>2011</td>\n",
       "      <td>9</td>\n",
       "      <td>30</td>\n",
       "      <td>15</td>\n",
       "      <td>52</td>\n",
       "      <td>0</td>\n",
       "      <td>0</td>\n",
       "    </tr>\n",
       "    <tr>\n",
       "      <th>370679</th>\n",
       "      <td>12</td>\n",
       "      <td>0.85</td>\n",
       "      <td>34</td>\n",
       "      <td>2011</td>\n",
       "      <td>9</td>\n",
       "      <td>30</td>\n",
       "      <td>15</td>\n",
       "      <td>52</td>\n",
       "      <td>0</td>\n",
       "      <td>0</td>\n",
       "    </tr>\n",
       "  </tbody>\n",
       "</table>\n",
       "<p>263815 rows × 10 columns</p>\n",
       "</div>"
      ],
      "text/plain": [
       "        Quantity  UnitPrice  Country  InvoiceDate_year  InvoiceDate_month  \\\n",
       "0              6       2.55       34              2010                 12   \n",
       "1              6       3.39       34              2010                 12   \n",
       "2              8       2.75       34              2010                 12   \n",
       "3              6       3.39       34              2010                 12   \n",
       "4              6       3.39       34              2010                 12   \n",
       "...          ...        ...      ...               ...                ...   \n",
       "370675         4       4.25       34              2011                  9   \n",
       "370676         4       4.25       34              2011                  9   \n",
       "370677        12       2.10       34              2011                  9   \n",
       "370678        12       2.10       34              2011                  9   \n",
       "370679        12       0.85       34              2011                  9   \n",
       "\n",
       "        InvoiceDate_day  InvoiceDate_hour  InvoiceDate_minute  \\\n",
       "0                     1                 8                  26   \n",
       "1                     1                 8                  26   \n",
       "2                     1                 8                  26   \n",
       "3                     1                 8                  26   \n",
       "4                     1                 8                  26   \n",
       "...                 ...               ...                 ...   \n",
       "370675               30                15                  52   \n",
       "370676               30                15                  52   \n",
       "370677               30                15                  52   \n",
       "370678               30                15                  52   \n",
       "370679               30                15                  52   \n",
       "\n",
       "        InvoiceDate_second  IsCancelled  \n",
       "0                        0            0  \n",
       "1                        0            0  \n",
       "2                        0            0  \n",
       "3                        0            0  \n",
       "4                        0            0  \n",
       "...                    ...          ...  \n",
       "370675                   0            0  \n",
       "370676                   0            0  \n",
       "370677                   0            0  \n",
       "370678                   0            0  \n",
       "370679                   0            0  \n",
       "\n",
       "[263815 rows x 10 columns]"
      ]
     },
     "execution_count": 22,
     "metadata": {},
     "output_type": "execute_result"
    }
   ],
   "source": [
    "from featurologists.cancellation_prediction import build_country_encoder, preprocess, save_country_encoder\n",
    "\n",
    "country_encoder = build_country_encoder(list(offline_cleaned['Country'].unique()))\n",
    "\n",
    "offline_preprocessed = preprocess(offline_cleaned, country_encoder)\n",
    "offline_preprocessed"
   ]
  },
  {
   "cell_type": "code",
   "execution_count": 24,
   "id": "unexpected-matrix",
   "metadata": {},
   "outputs": [
    {
     "name": "stdout",
     "output_type": "stream",
     "text": [
      "Saved to /plain/github/opensource/Featurologists/data/output/cancellation_prediction\n",
      "country_encoder.npy  offline_preprocessed.csv\r\n"
     ]
    }
   ],
   "source": [
    "cancellation_prediction_root = PROJECT_ROOT / \"data/output/cancellation_prediction\"\n",
    "cancellation_prediction_root.mkdir(exist_ok=True)\n",
    "\n",
    "offline_preprocessed_path = cancellation_prediction_root / \"offline_preprocessed.csv\"\n",
    "country_encoder_path = cancellation_prediction_root / 'country_encoder.npy'\n",
    "offline_preprocessed.to_csv(offline_preprocessed_path, index=False)\n",
    "\n",
    "save_country_encoder(country_encoder, country_encoder_path)\n",
    "\n",
    "print(f'Saved to {cancellation_prediction_root}')\n",
    "!ls {cancellation_prediction_root}"
   ]
  },
  {
   "cell_type": "code",
   "execution_count": null,
   "id": "cordless-lease",
   "metadata": {},
   "outputs": [],
   "source": []
  }
 ],
 "metadata": {
  "kernelspec": {
   "display_name": "featurologists",
   "language": "python",
   "name": "featurologists"
  },
  "language_info": {
   "codemirror_mode": {
    "name": "ipython",
    "version": 3
   },
   "file_extension": ".py",
   "mimetype": "text/x-python",
   "name": "python",
   "nbconvert_exporter": "python",
   "pygments_lexer": "ipython3",
   "version": "3.7.6"
  }
 },
 "nbformat": 4,
 "nbformat_minor": 5
}
