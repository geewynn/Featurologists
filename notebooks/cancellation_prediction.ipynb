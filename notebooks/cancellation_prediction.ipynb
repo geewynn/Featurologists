{
 "cells": [
  {
   "cell_type": "code",
   "execution_count": 1,
   "metadata": {},
   "outputs": [],
   "source": [
    "%load_ext autoreload\n",
    "%autoreload 2"
   ]
  },
  {
   "cell_type": "code",
   "execution_count": 2,
   "metadata": {},
   "outputs": [],
   "source": [
    "import logging\n",
    "\n",
    "for handler in logging.root.handlers:\n",
    "    logging.root.removeHandler(handler)\n",
    "logging.basicConfig(level=logging.INFO)"
   ]
  },
  {
   "cell_type": "code",
   "execution_count": 3,
   "metadata": {},
   "outputs": [],
   "source": [
    "# Set project root\n",
    "from pathlib import Path\n",
    "\n",
    "PROJECT_ROOT = Path(\"..\").resolve()\n",
    "PROJECT_ROOT_LS = [p.name for p in PROJECT_ROOT.iterdir()]\n",
    "assert \"featurologists\" in PROJECT_ROOT_LS, f\"Not a project root? {PROJECT_ROOT}, pwd: {Path().resolve()}\""
   ]
  },
  {
   "cell_type": "code",
   "execution_count": 16,
   "metadata": {},
   "outputs": [],
   "source": [
    "MODELS_DIR = PROJECT_ROOT/'models/cancellation_prediction'\n",
    "DATA_DIR = PROJECT_ROOT/'data/output/cancellation_prediction'\n",
    "\n",
    "PREPROCESSED_DATA_PATH = DATA_DIR / 'offline_preprocessed.csv'\n",
    "COUNTRY_ENCODER_PATH = DATA_DIR / 'country_encoder.npy'"
   ]
  },
  {
   "cell_type": "code",
   "execution_count": 19,
   "metadata": {},
   "outputs": [],
   "source": [
    "import pandas as pd\n",
    "from featurologists.cancellation_prediction import (\n",
    "    build_country_encoder,\n",
    "    save_country_encoder,\n",
    "    load_country_encoder,\n",
    "    preprocess,\n",
    "    train_test_split,\n",
    "    train_xgboost,\n",
    "    predict,\n",
    "    calc_all_metrics,\n",
    "    save_model,\n",
    ")\n",
    "\n",
    "import sklearn"
   ]
  },
  {
   "cell_type": "code",
   "execution_count": 20,
   "metadata": {
    "scrolled": false
   },
   "outputs": [
    {
     "name": "stderr",
     "output_type": "stream",
     "text": [
      "/plain/github/opensource/Featurologists/venv/lib/python3.7/site-packages/IPython/core/interactiveshell.py:3170: DtypeWarning: Columns (0) have mixed types.Specify dtype option on import or set low_memory=False.\n",
      "  interactivity=interactivity, compiler=compiler, result=result)\n"
     ]
    },
    {
     "data": {
      "text/plain": [
       "((263815, 10),\n",
       " Index(['InvoiceNo', 'StockCode', 'Description', 'Quantity', 'InvoiceDate',\n",
       "        'UnitPrice', 'CustomerID', 'Country', 'QuantityCanceled', 'TotalPrice'],\n",
       "       dtype='object'))"
      ]
     },
     "execution_count": 20,
     "metadata": {},
     "output_type": "execute_result"
    }
   ],
   "source": [
    "df = pd.read_csv(PROJECT_ROOT/'data/output/offline_cleaned.csv')\n",
    "df.shape, df.columns"
   ]
  },
  {
   "cell_type": "code",
   "execution_count": 21,
   "metadata": {},
   "outputs": [
    {
     "data": {
      "text/plain": [
       "3509"
      ]
     },
     "execution_count": 21,
     "metadata": {},
     "output_type": "execute_result"
    }
   ],
   "source": [
    "df['StockCode'].unique().size"
   ]
  },
  {
   "cell_type": "code",
   "execution_count": 22,
   "metadata": {},
   "outputs": [
    {
     "data": {
      "text/plain": [
       "3616"
      ]
     },
     "execution_count": 22,
     "metadata": {},
     "output_type": "execute_result"
    }
   ],
   "source": [
    "df['CustomerID'].unique().size"
   ]
  },
  {
   "cell_type": "code",
   "execution_count": 23,
   "metadata": {
    "scrolled": true
   },
   "outputs": [
    {
     "name": "stdout",
     "output_type": "stream",
     "text": [
      "QuantityCancelled: 4980 out of 263815 (1.89%)\n"
     ]
    }
   ],
   "source": [
    "total = df.shape[0]\n",
    "non_null = df[df['QuantityCanceled'] > 0]['InvoiceNo'].count()\n",
    "print(f'QuantityCancelled: {non_null} out of {total} ({non_null/total*100:.2f}%)')"
   ]
  },
  {
   "cell_type": "code",
   "execution_count": 24,
   "metadata": {},
   "outputs": [
    {
     "data": {
      "text/plain": [
       "36"
      ]
     },
     "execution_count": 24,
     "metadata": {},
     "output_type": "execute_result"
    }
   ],
   "source": [
    "df['Country'].unique().size"
   ]
  },
  {
   "cell_type": "code",
   "execution_count": 25,
   "metadata": {},
   "outputs": [
    {
     "data": {
      "text/plain": [
       "array(['Australia', 'Austria', 'Bahrain', 'Belgium', 'Brazil', 'Canada',\n",
       "       'Channel Islands', 'Cyprus', 'Czech Republic', 'Denmark', 'EIRE',\n",
       "       'European Community', 'Finland', 'France', 'Germany', 'Greece',\n",
       "       'Iceland', 'Israel', 'Italy', 'Japan', 'Lebanon', 'Lithuania',\n",
       "       'Malta', 'Netherlands', 'Norway', 'Poland', 'Portugal',\n",
       "       'Saudi Arabia', 'Singapore', 'Spain', 'Sweden', 'Switzerland',\n",
       "       'USA', 'United Arab Emirates', 'United Kingdom', 'Unspecified'],\n",
       "      dtype='<U20')"
      ]
     },
     "execution_count": 25,
     "metadata": {},
     "output_type": "execute_result"
    }
   ],
   "source": [
    "country_encoder = build_country_encoder(list(df['Country'].unique()))\n",
    "country_encoder.classes_"
   ]
  },
  {
   "cell_type": "code",
   "execution_count": 38,
   "metadata": {},
   "outputs": [
    {
     "data": {
      "text/plain": [
       "36"
      ]
     },
     "execution_count": 38,
     "metadata": {},
     "output_type": "execute_result"
    }
   ],
   "source": [
    "len(country_encoder.classes_)"
   ]
  },
  {
   "cell_type": "code",
   "execution_count": 26,
   "metadata": {},
   "outputs": [],
   "source": [
    "save_country_encoder(country_encoder, COUNTRY_ENCODER_PATH)"
   ]
  },
  {
   "cell_type": "code",
   "execution_count": 13,
   "metadata": {},
   "outputs": [
    {
     "data": {
      "text/plain": [
       "array(['Australia', 'Austria', 'Bahrain', 'Belgium', 'Brazil', 'Canada',\n",
       "       'Channel Islands', 'Cyprus', 'Czech Republic', 'Denmark', 'EIRE',\n",
       "       'European Community', 'Finland', 'France', 'Germany', 'Greece',\n",
       "       'Iceland', 'Israel', 'Italy', 'Japan', 'Lebanon', 'Lithuania',\n",
       "       'Malta', 'Netherlands', 'Norway', 'Poland', 'Portugal',\n",
       "       'Saudi Arabia', 'Singapore', 'Spain', 'Sweden', 'Switzerland',\n",
       "       'USA', 'United Arab Emirates', 'United Kingdom', 'Unspecified'],\n",
       "      dtype='<U20')"
      ]
     },
     "execution_count": 13,
     "metadata": {},
     "output_type": "execute_result"
    }
   ],
   "source": [
    "country_encoder = load_country_encoder(COUNTRY_ENCODER_PATH)\n",
    "country_encoder.classes_"
   ]
  },
  {
   "cell_type": "code",
   "execution_count": 27,
   "metadata": {
    "scrolled": false
   },
   "outputs": [
    {
     "data": {
      "text/html": [
       "<div>\n",
       "<style scoped>\n",
       "    .dataframe tbody tr th:only-of-type {\n",
       "        vertical-align: middle;\n",
       "    }\n",
       "\n",
       "    .dataframe tbody tr th {\n",
       "        vertical-align: top;\n",
       "    }\n",
       "\n",
       "    .dataframe thead th {\n",
       "        text-align: right;\n",
       "    }\n",
       "</style>\n",
       "<table border=\"1\" class=\"dataframe\">\n",
       "  <thead>\n",
       "    <tr style=\"text-align: right;\">\n",
       "      <th></th>\n",
       "      <th>Quantity</th>\n",
       "      <th>UnitPrice</th>\n",
       "      <th>Country</th>\n",
       "      <th>InvoiceDate_year</th>\n",
       "      <th>InvoiceDate_month</th>\n",
       "      <th>InvoiceDate_day</th>\n",
       "      <th>InvoiceDate_hour</th>\n",
       "      <th>InvoiceDate_minute</th>\n",
       "      <th>InvoiceDate_second</th>\n",
       "      <th>IsCancelled</th>\n",
       "    </tr>\n",
       "  </thead>\n",
       "  <tbody>\n",
       "    <tr>\n",
       "      <th>0</th>\n",
       "      <td>6</td>\n",
       "      <td>2.55</td>\n",
       "      <td>34</td>\n",
       "      <td>2010</td>\n",
       "      <td>12</td>\n",
       "      <td>1</td>\n",
       "      <td>8</td>\n",
       "      <td>26</td>\n",
       "      <td>0</td>\n",
       "      <td>0</td>\n",
       "    </tr>\n",
       "    <tr>\n",
       "      <th>1</th>\n",
       "      <td>6</td>\n",
       "      <td>3.39</td>\n",
       "      <td>34</td>\n",
       "      <td>2010</td>\n",
       "      <td>12</td>\n",
       "      <td>1</td>\n",
       "      <td>8</td>\n",
       "      <td>26</td>\n",
       "      <td>0</td>\n",
       "      <td>0</td>\n",
       "    </tr>\n",
       "    <tr>\n",
       "      <th>2</th>\n",
       "      <td>8</td>\n",
       "      <td>2.75</td>\n",
       "      <td>34</td>\n",
       "      <td>2010</td>\n",
       "      <td>12</td>\n",
       "      <td>1</td>\n",
       "      <td>8</td>\n",
       "      <td>26</td>\n",
       "      <td>0</td>\n",
       "      <td>0</td>\n",
       "    </tr>\n",
       "    <tr>\n",
       "      <th>3</th>\n",
       "      <td>6</td>\n",
       "      <td>3.39</td>\n",
       "      <td>34</td>\n",
       "      <td>2010</td>\n",
       "      <td>12</td>\n",
       "      <td>1</td>\n",
       "      <td>8</td>\n",
       "      <td>26</td>\n",
       "      <td>0</td>\n",
       "      <td>0</td>\n",
       "    </tr>\n",
       "    <tr>\n",
       "      <th>4</th>\n",
       "      <td>6</td>\n",
       "      <td>3.39</td>\n",
       "      <td>34</td>\n",
       "      <td>2010</td>\n",
       "      <td>12</td>\n",
       "      <td>1</td>\n",
       "      <td>8</td>\n",
       "      <td>26</td>\n",
       "      <td>0</td>\n",
       "      <td>0</td>\n",
       "    </tr>\n",
       "    <tr>\n",
       "      <th>...</th>\n",
       "      <td>...</td>\n",
       "      <td>...</td>\n",
       "      <td>...</td>\n",
       "      <td>...</td>\n",
       "      <td>...</td>\n",
       "      <td>...</td>\n",
       "      <td>...</td>\n",
       "      <td>...</td>\n",
       "      <td>...</td>\n",
       "      <td>...</td>\n",
       "    </tr>\n",
       "    <tr>\n",
       "      <th>263810</th>\n",
       "      <td>4</td>\n",
       "      <td>4.25</td>\n",
       "      <td>34</td>\n",
       "      <td>2011</td>\n",
       "      <td>9</td>\n",
       "      <td>30</td>\n",
       "      <td>15</td>\n",
       "      <td>52</td>\n",
       "      <td>0</td>\n",
       "      <td>0</td>\n",
       "    </tr>\n",
       "    <tr>\n",
       "      <th>263811</th>\n",
       "      <td>4</td>\n",
       "      <td>4.25</td>\n",
       "      <td>34</td>\n",
       "      <td>2011</td>\n",
       "      <td>9</td>\n",
       "      <td>30</td>\n",
       "      <td>15</td>\n",
       "      <td>52</td>\n",
       "      <td>0</td>\n",
       "      <td>0</td>\n",
       "    </tr>\n",
       "    <tr>\n",
       "      <th>263812</th>\n",
       "      <td>12</td>\n",
       "      <td>2.10</td>\n",
       "      <td>34</td>\n",
       "      <td>2011</td>\n",
       "      <td>9</td>\n",
       "      <td>30</td>\n",
       "      <td>15</td>\n",
       "      <td>52</td>\n",
       "      <td>0</td>\n",
       "      <td>0</td>\n",
       "    </tr>\n",
       "    <tr>\n",
       "      <th>263813</th>\n",
       "      <td>12</td>\n",
       "      <td>2.10</td>\n",
       "      <td>34</td>\n",
       "      <td>2011</td>\n",
       "      <td>9</td>\n",
       "      <td>30</td>\n",
       "      <td>15</td>\n",
       "      <td>52</td>\n",
       "      <td>0</td>\n",
       "      <td>0</td>\n",
       "    </tr>\n",
       "    <tr>\n",
       "      <th>263814</th>\n",
       "      <td>12</td>\n",
       "      <td>0.85</td>\n",
       "      <td>34</td>\n",
       "      <td>2011</td>\n",
       "      <td>9</td>\n",
       "      <td>30</td>\n",
       "      <td>15</td>\n",
       "      <td>52</td>\n",
       "      <td>0</td>\n",
       "      <td>0</td>\n",
       "    </tr>\n",
       "  </tbody>\n",
       "</table>\n",
       "<p>263815 rows × 10 columns</p>\n",
       "</div>"
      ],
      "text/plain": [
       "        Quantity  UnitPrice  Country  InvoiceDate_year  InvoiceDate_month  \\\n",
       "0              6       2.55       34              2010                 12   \n",
       "1              6       3.39       34              2010                 12   \n",
       "2              8       2.75       34              2010                 12   \n",
       "3              6       3.39       34              2010                 12   \n",
       "4              6       3.39       34              2010                 12   \n",
       "...          ...        ...      ...               ...                ...   \n",
       "263810         4       4.25       34              2011                  9   \n",
       "263811         4       4.25       34              2011                  9   \n",
       "263812        12       2.10       34              2011                  9   \n",
       "263813        12       2.10       34              2011                  9   \n",
       "263814        12       0.85       34              2011                  9   \n",
       "\n",
       "        InvoiceDate_day  InvoiceDate_hour  InvoiceDate_minute  \\\n",
       "0                     1                 8                  26   \n",
       "1                     1                 8                  26   \n",
       "2                     1                 8                  26   \n",
       "3                     1                 8                  26   \n",
       "4                     1                 8                  26   \n",
       "...                 ...               ...                 ...   \n",
       "263810               30                15                  52   \n",
       "263811               30                15                  52   \n",
       "263812               30                15                  52   \n",
       "263813               30                15                  52   \n",
       "263814               30                15                  52   \n",
       "\n",
       "        InvoiceDate_second  IsCancelled  \n",
       "0                        0            0  \n",
       "1                        0            0  \n",
       "2                        0            0  \n",
       "3                        0            0  \n",
       "4                        0            0  \n",
       "...                    ...          ...  \n",
       "263810                   0            0  \n",
       "263811                   0            0  \n",
       "263812                   0            0  \n",
       "263813                   0            0  \n",
       "263814                   0            0  \n",
       "\n",
       "[263815 rows x 10 columns]"
      ]
     },
     "execution_count": 27,
     "metadata": {},
     "output_type": "execute_result"
    }
   ],
   "source": [
    "data = preprocess(df, country_encoder)\n",
    "data"
   ]
  },
  {
   "cell_type": "code",
   "execution_count": 28,
   "metadata": {
    "scrolled": true
   },
   "outputs": [
    {
     "name": "stdout",
     "output_type": "stream",
     "text": [
      "Index(['Quantity', 'UnitPrice', 'Country', 'InvoiceDate_year',\n",
      "       'InvoiceDate_month', 'InvoiceDate_day', 'InvoiceDate_hour',\n",
      "       'InvoiceDate_minute', 'InvoiceDate_second', 'IsCancelled'],\n",
      "      dtype='object')\n"
     ]
    }
   ],
   "source": [
    "print(data.columns)"
   ]
  },
  {
   "cell_type": "code",
   "execution_count": null,
   "metadata": {},
   "outputs": [],
   "source": []
  },
  {
   "cell_type": "code",
   "execution_count": 29,
   "metadata": {},
   "outputs": [],
   "source": [
    "X_train, X_test, Y_train, Y_test = train_test_split(data)"
   ]
  },
  {
   "cell_type": "code",
   "execution_count": 30,
   "metadata": {},
   "outputs": [
    {
     "data": {
      "text/plain": [
       "XGBClassifier(base_score=0.5, booster='gbtree', colsample_bylevel=1,\n",
       "              colsample_bynode=1, colsample_bytree=1, eval_metric='aucpr',\n",
       "              gamma=0, gpu_id=-1, importance_type='gain',\n",
       "              interaction_constraints='', learning_rate=0.15, max_delta_step=0,\n",
       "              max_depth=6, min_child_weight=1, missing=nan,\n",
       "              monotone_constraints='()', n_estimators=200, n_jobs=12,\n",
       "              num_parallel_tree=1, random_state=0, reg_alpha=0, reg_lambda=1,\n",
       "              scale_pos_weight=1, subsample=1, tree_method='exact',\n",
       "              use_label_encoder=False, validate_parameters=1, verbosity=None)"
      ]
     },
     "execution_count": 30,
     "metadata": {},
     "output_type": "execute_result"
    }
   ],
   "source": [
    "m = train_xgboost(X_train, Y_train)\n",
    "m"
   ]
  },
  {
   "cell_type": "code",
   "execution_count": null,
   "metadata": {},
   "outputs": [],
   "source": []
  },
  {
   "cell_type": "code",
   "execution_count": 31,
   "metadata": {},
   "outputs": [
    {
     "data": {
      "text/plain": [
       "{'score_accuracy': 0.9819475769004795,\n",
       " 'score_roc_auc': 0.5260223190364177,\n",
       " 'error_mse': 0.018052423099520497,\n",
       " 'error_r2': 0.02527494605695002,\n",
       " 'confidence_least': 0.5028083324432373,\n",
       " 'confidence_most': 0.9999750852584839,\n",
       " 'predicted_positive_count': 121,\n",
       " 'predicted_negative_count': 105405,\n",
       " 'predicted_positive_to_negative_fraction': 0.0011479531331530762,\n",
       " 'groundtruth_positive_count': 1992,\n",
       " 'groundtruth_negative_count': 103534,\n",
       " 'groundtruth_positive_to_negative_fraction': 0.019240056406591072,\n",
       " 'predicted_positive_to_groundtruth_negative_fraction': 0.0607429718875502}"
      ]
     },
     "execution_count": 31,
     "metadata": {},
     "output_type": "execute_result"
    }
   ],
   "source": [
    "meta = calc_all_metrics(m, X_test, Y_test)\n",
    "meta"
   ]
  },
  {
   "cell_type": "code",
   "execution_count": 32,
   "metadata": {},
   "outputs": [],
   "source": [
    "# Try row-by-row inference"
   ]
  },
  {
   "cell_type": "code",
   "execution_count": 33,
   "metadata": {},
   "outputs": [
    {
     "data": {
      "text/html": [
       "<div>\n",
       "<style scoped>\n",
       "    .dataframe tbody tr th:only-of-type {\n",
       "        vertical-align: middle;\n",
       "    }\n",
       "\n",
       "    .dataframe tbody tr th {\n",
       "        vertical-align: top;\n",
       "    }\n",
       "\n",
       "    .dataframe thead th {\n",
       "        text-align: right;\n",
       "    }\n",
       "</style>\n",
       "<table border=\"1\" class=\"dataframe\">\n",
       "  <thead>\n",
       "    <tr style=\"text-align: right;\">\n",
       "      <th></th>\n",
       "      <th>Quantity</th>\n",
       "      <th>UnitPrice</th>\n",
       "      <th>Country</th>\n",
       "      <th>InvoiceDate_year</th>\n",
       "      <th>InvoiceDate_month</th>\n",
       "      <th>InvoiceDate_day</th>\n",
       "      <th>InvoiceDate_hour</th>\n",
       "      <th>InvoiceDate_minute</th>\n",
       "      <th>InvoiceDate_second</th>\n",
       "    </tr>\n",
       "  </thead>\n",
       "  <tbody>\n",
       "    <tr>\n",
       "      <th>241913</th>\n",
       "      <td>6</td>\n",
       "      <td>2.55</td>\n",
       "      <td>34</td>\n",
       "      <td>2011</td>\n",
       "      <td>9</td>\n",
       "      <td>15</td>\n",
       "      <td>18</td>\n",
       "      <td>5</td>\n",
       "      <td>0</td>\n",
       "    </tr>\n",
       "  </tbody>\n",
       "</table>\n",
       "</div>"
      ],
      "text/plain": [
       "        Quantity  UnitPrice  Country  InvoiceDate_year  InvoiceDate_month  \\\n",
       "241913         6       2.55       34              2011                  9   \n",
       "\n",
       "        InvoiceDate_day  InvoiceDate_hour  InvoiceDate_minute  \\\n",
       "241913               15                18                   5   \n",
       "\n",
       "        InvoiceDate_second  \n",
       "241913                   0  "
      ]
     },
     "execution_count": 33,
     "metadata": {},
     "output_type": "execute_result"
    }
   ],
   "source": [
    "test_row = X_test.iloc[[0]]\n",
    "test_row"
   ]
  },
  {
   "cell_type": "code",
   "execution_count": 34,
   "metadata": {},
   "outputs": [
    {
     "data": {
      "text/plain": [
       "(array([0]), array([[0.9910913 , 0.00890869]], dtype=float32))"
      ]
     },
     "execution_count": 34,
     "metadata": {},
     "output_type": "execute_result"
    }
   ],
   "source": [
    "predict(m, test_row, return_proba=True)"
   ]
  },
  {
   "cell_type": "code",
   "execution_count": 35,
   "metadata": {
    "scrolled": true
   },
   "outputs": [
    {
     "data": {
      "text/html": [
       "<div>\n",
       "<style scoped>\n",
       "    .dataframe tbody tr th:only-of-type {\n",
       "        vertical-align: middle;\n",
       "    }\n",
       "\n",
       "    .dataframe tbody tr th {\n",
       "        vertical-align: top;\n",
       "    }\n",
       "\n",
       "    .dataframe thead th {\n",
       "        text-align: right;\n",
       "    }\n",
       "</style>\n",
       "<table border=\"1\" class=\"dataframe\">\n",
       "  <thead>\n",
       "    <tr style=\"text-align: right;\">\n",
       "      <th></th>\n",
       "      <th>Quantity</th>\n",
       "      <th>UnitPrice</th>\n",
       "      <th>Country</th>\n",
       "      <th>InvoiceDate_year</th>\n",
       "      <th>InvoiceDate_month</th>\n",
       "      <th>InvoiceDate_day</th>\n",
       "      <th>InvoiceDate_hour</th>\n",
       "      <th>InvoiceDate_minute</th>\n",
       "      <th>InvoiceDate_second</th>\n",
       "    </tr>\n",
       "  </thead>\n",
       "  <tbody>\n",
       "    <tr>\n",
       "      <th>241913</th>\n",
       "      <td>6</td>\n",
       "      <td>2.55</td>\n",
       "      <td>34</td>\n",
       "      <td>2011</td>\n",
       "      <td>9</td>\n",
       "      <td>15</td>\n",
       "      <td>18</td>\n",
       "      <td>5</td>\n",
       "      <td>0</td>\n",
       "    </tr>\n",
       "    <tr>\n",
       "      <th>28297</th>\n",
       "      <td>20</td>\n",
       "      <td>1.65</td>\n",
       "      <td>34</td>\n",
       "      <td>2011</td>\n",
       "      <td>1</td>\n",
       "      <td>6</td>\n",
       "      <td>15</td>\n",
       "      <td>29</td>\n",
       "      <td>0</td>\n",
       "    </tr>\n",
       "    <tr>\n",
       "      <th>110088</th>\n",
       "      <td>2</td>\n",
       "      <td>5.95</td>\n",
       "      <td>34</td>\n",
       "      <td>2011</td>\n",
       "      <td>4</td>\n",
       "      <td>19</td>\n",
       "      <td>16</td>\n",
       "      <td>52</td>\n",
       "      <td>0</td>\n",
       "    </tr>\n",
       "  </tbody>\n",
       "</table>\n",
       "</div>"
      ],
      "text/plain": [
       "        Quantity  UnitPrice  Country  InvoiceDate_year  InvoiceDate_month  \\\n",
       "241913         6       2.55       34              2011                  9   \n",
       "28297         20       1.65       34              2011                  1   \n",
       "110088         2       5.95       34              2011                  4   \n",
       "\n",
       "        InvoiceDate_day  InvoiceDate_hour  InvoiceDate_minute  \\\n",
       "241913               15                18                   5   \n",
       "28297                 6                15                  29   \n",
       "110088               19                16                  52   \n",
       "\n",
       "        InvoiceDate_second  \n",
       "241913                   0  \n",
       "28297                    0  \n",
       "110088                   0  "
      ]
     },
     "execution_count": 35,
     "metadata": {},
     "output_type": "execute_result"
    }
   ],
   "source": [
    "test_rows = X_test.iloc[:3]\n",
    "test_rows"
   ]
  },
  {
   "cell_type": "code",
   "execution_count": 36,
   "metadata": {},
   "outputs": [
    {
     "data": {
      "text/plain": [
       "(array([0, 0, 0]),\n",
       " array([[0.9910913 , 0.00890869],\n",
       "        [0.8684514 , 0.1315486 ],\n",
       "        [0.98157156, 0.01842844]], dtype=float32))"
      ]
     },
     "execution_count": 36,
     "metadata": {},
     "output_type": "execute_result"
    }
   ],
   "source": [
    "predict(m, test_rows, return_proba=True)"
   ]
  },
  {
   "cell_type": "code",
   "execution_count": null,
   "metadata": {},
   "outputs": [],
   "source": []
  },
  {
   "cell_type": "code",
   "execution_count": 37,
   "metadata": {},
   "outputs": [
    {
     "data": {
      "text/plain": [
       "['xgboost']"
      ]
     },
     "execution_count": 37,
     "metadata": {},
     "output_type": "execute_result"
    }
   ],
   "source": [
    "MODELS_DIR = PROJECT_ROOT / \"models/cancellation_prediction\"\n",
    "! rm -r {MODELS_DIR}\n",
    "\n",
    "save_model(m, MODELS_DIR / \"xgboost\", metadata=meta)\n",
    "\n",
    "[p.name for p in MODELS_DIR.iterdir()]"
   ]
  },
  {
   "cell_type": "code",
   "execution_count": null,
   "metadata": {},
   "outputs": [],
   "source": []
  }
 ],
 "metadata": {
  "kernelspec": {
   "display_name": "featurologists",
   "language": "python",
   "name": "featurologists"
  },
  "language_info": {
   "codemirror_mode": {
    "name": "ipython",
    "version": 3
   },
   "file_extension": ".py",
   "mimetype": "text/x-python",
   "name": "python",
   "nbconvert_exporter": "python",
   "pygments_lexer": "ipython3",
   "version": "3.7.6"
  }
 },
 "nbformat": 4,
 "nbformat_minor": 4
}
